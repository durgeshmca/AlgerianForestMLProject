{
 "cells": [
  {
   "cell_type": "markdown",
   "id": "6324f10a-994b-407d-89ba-dfa106acfb8d",
   "metadata": {},
   "source": [
    "About Dataset\n",
    "\n",
    "The dataset includes 244 instances that regroup a data of two regions of Algeria, namely the Bejaia region located in the northeast of Algeria and the Sidi Bel-abbes region located in the northwest of Algeria.\n",
    "\n",
    "122 instances for each region.\n",
    "\n",
    "The period from June 2012 to September 2012.\n",
    "The dataset includes 11 attributes and 1 output attribute (class)\n",
    "The 244 instances have been classified into fire (138 classes) and not fire (106 classes) classes."
   ]
  },
  {
   "cell_type": "code",
   "execution_count": 62,
   "id": "830e92b6-76d5-47f6-a635-cd40b1529c4d",
   "metadata": {
    "tags": []
   },
   "outputs": [],
   "source": [
    "import pandas as pd\n",
    "import numpy as np\n",
    "import matplotlib.pyplot as plt\n",
    "import seaborn as sns\n"
   ]
  },
  {
   "cell_type": "code",
   "execution_count": 2,
   "id": "17831d7d-2201-4e0d-a32c-829812e750f1",
   "metadata": {
    "tags": []
   },
   "outputs": [
    {
     "data": {
      "text/html": [
       "<div>\n",
       "<style scoped>\n",
       "    .dataframe tbody tr th:only-of-type {\n",
       "        vertical-align: middle;\n",
       "    }\n",
       "\n",
       "    .dataframe tbody tr th {\n",
       "        vertical-align: top;\n",
       "    }\n",
       "\n",
       "    .dataframe thead th {\n",
       "        text-align: right;\n",
       "    }\n",
       "</style>\n",
       "<table border=\"1\" class=\"dataframe\">\n",
       "  <thead>\n",
       "    <tr style=\"text-align: right;\">\n",
       "      <th></th>\n",
       "      <th>day</th>\n",
       "      <th>month</th>\n",
       "      <th>year</th>\n",
       "      <th>Temperature</th>\n",
       "      <th>RH</th>\n",
       "      <th>Ws</th>\n",
       "      <th>Rain</th>\n",
       "      <th>FFMC</th>\n",
       "      <th>DMC</th>\n",
       "      <th>DC</th>\n",
       "      <th>ISI</th>\n",
       "      <th>BUI</th>\n",
       "      <th>FWI</th>\n",
       "      <th>Classes</th>\n",
       "    </tr>\n",
       "  </thead>\n",
       "  <tbody>\n",
       "    <tr>\n",
       "      <th>0</th>\n",
       "      <td>1</td>\n",
       "      <td>6</td>\n",
       "      <td>2012</td>\n",
       "      <td>29</td>\n",
       "      <td>57</td>\n",
       "      <td>18</td>\n",
       "      <td>0</td>\n",
       "      <td>65.7</td>\n",
       "      <td>3.4</td>\n",
       "      <td>7.6</td>\n",
       "      <td>1.3</td>\n",
       "      <td>3.4</td>\n",
       "      <td>0.5</td>\n",
       "      <td>not fire</td>\n",
       "    </tr>\n",
       "    <tr>\n",
       "      <th>1</th>\n",
       "      <td>2</td>\n",
       "      <td>6</td>\n",
       "      <td>2012</td>\n",
       "      <td>29</td>\n",
       "      <td>61</td>\n",
       "      <td>13</td>\n",
       "      <td>1.3</td>\n",
       "      <td>64.4</td>\n",
       "      <td>4.1</td>\n",
       "      <td>7.6</td>\n",
       "      <td>1</td>\n",
       "      <td>3.9</td>\n",
       "      <td>0.4</td>\n",
       "      <td>not fire</td>\n",
       "    </tr>\n",
       "    <tr>\n",
       "      <th>2</th>\n",
       "      <td>3</td>\n",
       "      <td>6</td>\n",
       "      <td>2012</td>\n",
       "      <td>26</td>\n",
       "      <td>82</td>\n",
       "      <td>22</td>\n",
       "      <td>13.1</td>\n",
       "      <td>47.1</td>\n",
       "      <td>2.5</td>\n",
       "      <td>7.1</td>\n",
       "      <td>0.3</td>\n",
       "      <td>2.7</td>\n",
       "      <td>0.1</td>\n",
       "      <td>not fire</td>\n",
       "    </tr>\n",
       "    <tr>\n",
       "      <th>3</th>\n",
       "      <td>4</td>\n",
       "      <td>6</td>\n",
       "      <td>2012</td>\n",
       "      <td>25</td>\n",
       "      <td>89</td>\n",
       "      <td>13</td>\n",
       "      <td>2.5</td>\n",
       "      <td>28.6</td>\n",
       "      <td>1.3</td>\n",
       "      <td>6.9</td>\n",
       "      <td>0</td>\n",
       "      <td>1.7</td>\n",
       "      <td>0</td>\n",
       "      <td>not fire</td>\n",
       "    </tr>\n",
       "    <tr>\n",
       "      <th>4</th>\n",
       "      <td>5</td>\n",
       "      <td>6</td>\n",
       "      <td>2012</td>\n",
       "      <td>27</td>\n",
       "      <td>77</td>\n",
       "      <td>16</td>\n",
       "      <td>0</td>\n",
       "      <td>64.8</td>\n",
       "      <td>3</td>\n",
       "      <td>14.2</td>\n",
       "      <td>1.2</td>\n",
       "      <td>3.9</td>\n",
       "      <td>0.5</td>\n",
       "      <td>not fire</td>\n",
       "    </tr>\n",
       "  </tbody>\n",
       "</table>\n",
       "</div>"
      ],
      "text/plain": [
       "  day month  year Temperature  RH  Ws Rain   FFMC  DMC    DC  ISI  BUI  FWI  \\\n",
       "0   1     6  2012          29  57  18     0  65.7  3.4   7.6  1.3  3.4  0.5   \n",
       "1   2     6  2012          29  61  13   1.3  64.4  4.1   7.6    1  3.9  0.4   \n",
       "2   3     6  2012          26  82  22  13.1  47.1  2.5   7.1  0.3  2.7  0.1   \n",
       "3   4     6  2012          25  89  13   2.5  28.6  1.3   6.9    0  1.7    0   \n",
       "4   5     6  2012          27  77  16     0  64.8    3  14.2  1.2  3.9  0.5   \n",
       "\n",
       "     Classes    \n",
       "0  not fire     \n",
       "1  not fire     \n",
       "2  not fire     \n",
       "3  not fire     \n",
       "4  not fire     "
      ]
     },
     "execution_count": 2,
     "metadata": {},
     "output_type": "execute_result"
    }
   ],
   "source": [
    "df = pd.read_csv('data/Algerian_forest_fires_dataset.csv')\n",
    "df.head()"
   ]
  },
  {
   "cell_type": "code",
   "execution_count": 3,
   "id": "a4625f0e-fb04-45ba-83e4-f0c6b19ea678",
   "metadata": {
    "tags": []
   },
   "outputs": [
    {
     "name": "stdout",
     "output_type": "stream",
     "text": [
      "<class 'pandas.core.frame.DataFrame'>\n",
      "RangeIndex: 247 entries, 0 to 246\n",
      "Data columns (total 14 columns):\n",
      " #   Column       Non-Null Count  Dtype \n",
      "---  ------       --------------  ----- \n",
      " 0   day          246 non-null    object\n",
      " 1   month        245 non-null    object\n",
      " 2   year         245 non-null    object\n",
      " 3   Temperature  245 non-null    object\n",
      " 4    RH          245 non-null    object\n",
      " 5    Ws          245 non-null    object\n",
      " 6   Rain         245 non-null    object\n",
      " 7   FFMC         245 non-null    object\n",
      " 8   DMC          245 non-null    object\n",
      " 9   DC           245 non-null    object\n",
      " 10  ISI          245 non-null    object\n",
      " 11  BUI          245 non-null    object\n",
      " 12  FWI          245 non-null    object\n",
      " 13  Classes      245 non-null    object\n",
      "dtypes: object(14)\n",
      "memory usage: 27.1+ KB\n"
     ]
    }
   ],
   "source": [
    "df.info()"
   ]
  },
  {
   "cell_type": "code",
   "execution_count": 4,
   "id": "ee1cadb0-b567-4147-8dd3-0a7fcddf4a2e",
   "metadata": {
    "tags": []
   },
   "outputs": [
    {
     "data": {
      "text/plain": [
       "Index(['day', 'month', 'year', 'Temperature', ' RH', ' Ws', 'Rain ', 'FFMC',\n",
       "       'DMC', 'DC', 'ISI', 'BUI', 'FWI', 'Classes  '],\n",
       "      dtype='object')"
      ]
     },
     "execution_count": 4,
     "metadata": {},
     "output_type": "execute_result"
    }
   ],
   "source": [
    "df.columns"
   ]
  },
  {
   "cell_type": "code",
   "execution_count": 5,
   "id": "2b2dd440-f31a-4f2f-9a09-e782a7fa5157",
   "metadata": {
    "tags": []
   },
   "outputs": [
    {
     "data": {
      "text/plain": [
       "day            1\n",
       "month          2\n",
       "year           2\n",
       "Temperature    2\n",
       " RH            2\n",
       " Ws            2\n",
       "Rain           2\n",
       "FFMC           2\n",
       "DMC            2\n",
       "DC             2\n",
       "ISI            2\n",
       "BUI            2\n",
       "FWI            2\n",
       "Classes        2\n",
       "dtype: int64"
      ]
     },
     "execution_count": 5,
     "metadata": {},
     "output_type": "execute_result"
    }
   ],
   "source": [
    "df.isnull().sum()"
   ]
  },
  {
   "cell_type": "code",
   "execution_count": 6,
   "id": "0e85860a-6a4c-496c-8fc0-a7880d3ce6eb",
   "metadata": {
    "tags": []
   },
   "outputs": [
    {
     "data": {
      "text/plain": [
       "0"
      ]
     },
     "execution_count": 6,
     "metadata": {},
     "output_type": "execute_result"
    }
   ],
   "source": [
    "df.duplicated().sum()"
   ]
  },
  {
   "cell_type": "code",
   "execution_count": 7,
   "id": "2b8373e0-e41e-48ac-ab60-432c9316f900",
   "metadata": {
    "tags": []
   },
   "outputs": [
    {
     "data": {
      "text/html": [
       "<div>\n",
       "<style scoped>\n",
       "    .dataframe tbody tr th:only-of-type {\n",
       "        vertical-align: middle;\n",
       "    }\n",
       "\n",
       "    .dataframe tbody tr th {\n",
       "        vertical-align: top;\n",
       "    }\n",
       "\n",
       "    .dataframe thead th {\n",
       "        text-align: right;\n",
       "    }\n",
       "</style>\n",
       "<table border=\"1\" class=\"dataframe\">\n",
       "  <thead>\n",
       "    <tr style=\"text-align: right;\">\n",
       "      <th></th>\n",
       "      <th>day</th>\n",
       "      <th>month</th>\n",
       "      <th>year</th>\n",
       "      <th>Temperature</th>\n",
       "      <th>RH</th>\n",
       "      <th>Ws</th>\n",
       "      <th>Rain</th>\n",
       "      <th>FFMC</th>\n",
       "      <th>DMC</th>\n",
       "      <th>DC</th>\n",
       "      <th>ISI</th>\n",
       "      <th>BUI</th>\n",
       "      <th>FWI</th>\n",
       "      <th>Classes</th>\n",
       "    </tr>\n",
       "  </thead>\n",
       "  <tbody>\n",
       "    <tr>\n",
       "      <th>122</th>\n",
       "      <td>NaN</td>\n",
       "      <td>NaN</td>\n",
       "      <td>NaN</td>\n",
       "      <td>NaN</td>\n",
       "      <td>NaN</td>\n",
       "      <td>NaN</td>\n",
       "      <td>NaN</td>\n",
       "      <td>NaN</td>\n",
       "      <td>NaN</td>\n",
       "      <td>NaN</td>\n",
       "      <td>NaN</td>\n",
       "      <td>NaN</td>\n",
       "      <td>NaN</td>\n",
       "      <td>NaN</td>\n",
       "    </tr>\n",
       "    <tr>\n",
       "      <th>123</th>\n",
       "      <td>Sidi-Bel Abbes Region Dataset</td>\n",
       "      <td>NaN</td>\n",
       "      <td>NaN</td>\n",
       "      <td>NaN</td>\n",
       "      <td>NaN</td>\n",
       "      <td>NaN</td>\n",
       "      <td>NaN</td>\n",
       "      <td>NaN</td>\n",
       "      <td>NaN</td>\n",
       "      <td>NaN</td>\n",
       "      <td>NaN</td>\n",
       "      <td>NaN</td>\n",
       "      <td>NaN</td>\n",
       "      <td>NaN</td>\n",
       "    </tr>\n",
       "  </tbody>\n",
       "</table>\n",
       "</div>"
      ],
      "text/plain": [
       "                               day month year Temperature   RH   Ws Rain   \\\n",
       "122                            NaN   NaN  NaN         NaN  NaN  NaN   NaN   \n",
       "123  Sidi-Bel Abbes Region Dataset   NaN  NaN         NaN  NaN  NaN   NaN   \n",
       "\n",
       "    FFMC  DMC   DC  ISI  BUI  FWI Classes    \n",
       "122  NaN  NaN  NaN  NaN  NaN  NaN       NaN  \n",
       "123  NaN  NaN  NaN  NaN  NaN  NaN       NaN  "
      ]
     },
     "execution_count": 7,
     "metadata": {},
     "output_type": "execute_result"
    }
   ],
   "source": [
    "# get the missing value\n",
    "df[df.isnull().any(axis=1)]"
   ]
  },
  {
   "cell_type": "code",
   "execution_count": 8,
   "id": "904f6105-4074-4880-b2af-c8ead8f8edb0",
   "metadata": {
    "tags": []
   },
   "outputs": [],
   "source": [
    "## add new column for Region\n",
    "df.loc[:122,'Region'] = 0 # for Bejaia region\n",
    "df.loc[123:,'Region'] = 1 # for Sidi-Bel Abbes Region"
   ]
  },
  {
   "cell_type": "code",
   "execution_count": 9,
   "id": "90177de7-a498-4a38-bbaa-a0c1ee9b116f",
   "metadata": {
    "tags": []
   },
   "outputs": [
    {
     "data": {
      "text/html": [
       "<div>\n",
       "<style scoped>\n",
       "    .dataframe tbody tr th:only-of-type {\n",
       "        vertical-align: middle;\n",
       "    }\n",
       "\n",
       "    .dataframe tbody tr th {\n",
       "        vertical-align: top;\n",
       "    }\n",
       "\n",
       "    .dataframe thead th {\n",
       "        text-align: right;\n",
       "    }\n",
       "</style>\n",
       "<table border=\"1\" class=\"dataframe\">\n",
       "  <thead>\n",
       "    <tr style=\"text-align: right;\">\n",
       "      <th></th>\n",
       "      <th>day</th>\n",
       "      <th>month</th>\n",
       "      <th>year</th>\n",
       "      <th>Temperature</th>\n",
       "      <th>RH</th>\n",
       "      <th>Ws</th>\n",
       "      <th>Rain</th>\n",
       "      <th>FFMC</th>\n",
       "      <th>DMC</th>\n",
       "      <th>DC</th>\n",
       "      <th>ISI</th>\n",
       "      <th>BUI</th>\n",
       "      <th>FWI</th>\n",
       "      <th>Classes</th>\n",
       "      <th>Region</th>\n",
       "    </tr>\n",
       "  </thead>\n",
       "  <tbody>\n",
       "    <tr>\n",
       "      <th>0</th>\n",
       "      <td>1</td>\n",
       "      <td>6</td>\n",
       "      <td>2012</td>\n",
       "      <td>29</td>\n",
       "      <td>57</td>\n",
       "      <td>18</td>\n",
       "      <td>0</td>\n",
       "      <td>65.7</td>\n",
       "      <td>3.4</td>\n",
       "      <td>7.6</td>\n",
       "      <td>1.3</td>\n",
       "      <td>3.4</td>\n",
       "      <td>0.5</td>\n",
       "      <td>not fire</td>\n",
       "      <td>0.0</td>\n",
       "    </tr>\n",
       "    <tr>\n",
       "      <th>1</th>\n",
       "      <td>2</td>\n",
       "      <td>6</td>\n",
       "      <td>2012</td>\n",
       "      <td>29</td>\n",
       "      <td>61</td>\n",
       "      <td>13</td>\n",
       "      <td>1.3</td>\n",
       "      <td>64.4</td>\n",
       "      <td>4.1</td>\n",
       "      <td>7.6</td>\n",
       "      <td>1</td>\n",
       "      <td>3.9</td>\n",
       "      <td>0.4</td>\n",
       "      <td>not fire</td>\n",
       "      <td>0.0</td>\n",
       "    </tr>\n",
       "    <tr>\n",
       "      <th>2</th>\n",
       "      <td>3</td>\n",
       "      <td>6</td>\n",
       "      <td>2012</td>\n",
       "      <td>26</td>\n",
       "      <td>82</td>\n",
       "      <td>22</td>\n",
       "      <td>13.1</td>\n",
       "      <td>47.1</td>\n",
       "      <td>2.5</td>\n",
       "      <td>7.1</td>\n",
       "      <td>0.3</td>\n",
       "      <td>2.7</td>\n",
       "      <td>0.1</td>\n",
       "      <td>not fire</td>\n",
       "      <td>0.0</td>\n",
       "    </tr>\n",
       "    <tr>\n",
       "      <th>3</th>\n",
       "      <td>4</td>\n",
       "      <td>6</td>\n",
       "      <td>2012</td>\n",
       "      <td>25</td>\n",
       "      <td>89</td>\n",
       "      <td>13</td>\n",
       "      <td>2.5</td>\n",
       "      <td>28.6</td>\n",
       "      <td>1.3</td>\n",
       "      <td>6.9</td>\n",
       "      <td>0</td>\n",
       "      <td>1.7</td>\n",
       "      <td>0</td>\n",
       "      <td>not fire</td>\n",
       "      <td>0.0</td>\n",
       "    </tr>\n",
       "    <tr>\n",
       "      <th>4</th>\n",
       "      <td>5</td>\n",
       "      <td>6</td>\n",
       "      <td>2012</td>\n",
       "      <td>27</td>\n",
       "      <td>77</td>\n",
       "      <td>16</td>\n",
       "      <td>0</td>\n",
       "      <td>64.8</td>\n",
       "      <td>3</td>\n",
       "      <td>14.2</td>\n",
       "      <td>1.2</td>\n",
       "      <td>3.9</td>\n",
       "      <td>0.5</td>\n",
       "      <td>not fire</td>\n",
       "      <td>0.0</td>\n",
       "    </tr>\n",
       "  </tbody>\n",
       "</table>\n",
       "</div>"
      ],
      "text/plain": [
       "  day month  year Temperature  RH  Ws Rain   FFMC  DMC    DC  ISI  BUI  FWI  \\\n",
       "0   1     6  2012          29  57  18     0  65.7  3.4   7.6  1.3  3.4  0.5   \n",
       "1   2     6  2012          29  61  13   1.3  64.4  4.1   7.6    1  3.9  0.4   \n",
       "2   3     6  2012          26  82  22  13.1  47.1  2.5   7.1  0.3  2.7  0.1   \n",
       "3   4     6  2012          25  89  13   2.5  28.6  1.3   6.9    0  1.7    0   \n",
       "4   5     6  2012          27  77  16     0  64.8    3  14.2  1.2  3.9  0.5   \n",
       "\n",
       "     Classes    Region  \n",
       "0  not fire        0.0  \n",
       "1  not fire        0.0  \n",
       "2  not fire        0.0  \n",
       "3  not fire        0.0  \n",
       "4  not fire        0.0  "
      ]
     },
     "execution_count": 9,
     "metadata": {},
     "output_type": "execute_result"
    }
   ],
   "source": [
    "df.head()"
   ]
  },
  {
   "cell_type": "code",
   "execution_count": 10,
   "id": "2bc76e13-fa55-4c97-9915-8bc8b43de4ac",
   "metadata": {
    "tags": []
   },
   "outputs": [
    {
     "name": "stdout",
     "output_type": "stream",
     "text": [
      "<class 'pandas.core.frame.DataFrame'>\n",
      "RangeIndex: 247 entries, 0 to 246\n",
      "Data columns (total 15 columns):\n",
      " #   Column       Non-Null Count  Dtype  \n",
      "---  ------       --------------  -----  \n",
      " 0   day          246 non-null    object \n",
      " 1   month        245 non-null    object \n",
      " 2   year         245 non-null    object \n",
      " 3   Temperature  245 non-null    object \n",
      " 4    RH          245 non-null    object \n",
      " 5    Ws          245 non-null    object \n",
      " 6   Rain         245 non-null    object \n",
      " 7   FFMC         245 non-null    object \n",
      " 8   DMC          245 non-null    object \n",
      " 9   DC           245 non-null    object \n",
      " 10  ISI          245 non-null    object \n",
      " 11  BUI          245 non-null    object \n",
      " 12  FWI          245 non-null    object \n",
      " 13  Classes      245 non-null    object \n",
      " 14  Region       247 non-null    float64\n",
      "dtypes: float64(1), object(14)\n",
      "memory usage: 29.1+ KB\n"
     ]
    }
   ],
   "source": [
    "df.info()"
   ]
  },
  {
   "cell_type": "code",
   "execution_count": 11,
   "id": "cbaf5e96-bcfe-4237-98ff-5e5b9597528e",
   "metadata": {
    "tags": []
   },
   "outputs": [],
   "source": [
    "#df.dropna(inplace=True)\n",
    "df[['Region']] = df[['Region']].astype(int)"
   ]
  },
  {
   "cell_type": "code",
   "execution_count": 12,
   "id": "2d924339-7816-46ac-bcb8-1fac6b22a29b",
   "metadata": {
    "tags": []
   },
   "outputs": [
    {
     "name": "stdout",
     "output_type": "stream",
     "text": [
      "<class 'pandas.core.frame.DataFrame'>\n",
      "RangeIndex: 247 entries, 0 to 246\n",
      "Data columns (total 15 columns):\n",
      " #   Column       Non-Null Count  Dtype \n",
      "---  ------       --------------  ----- \n",
      " 0   day          246 non-null    object\n",
      " 1   month        245 non-null    object\n",
      " 2   year         245 non-null    object\n",
      " 3   Temperature  245 non-null    object\n",
      " 4    RH          245 non-null    object\n",
      " 5    Ws          245 non-null    object\n",
      " 6   Rain         245 non-null    object\n",
      " 7   FFMC         245 non-null    object\n",
      " 8   DMC          245 non-null    object\n",
      " 9   DC           245 non-null    object\n",
      " 10  ISI          245 non-null    object\n",
      " 11  BUI          245 non-null    object\n",
      " 12  FWI          245 non-null    object\n",
      " 13  Classes      245 non-null    object\n",
      " 14  Region       247 non-null    int64 \n",
      "dtypes: int64(1), object(14)\n",
      "memory usage: 29.1+ KB\n"
     ]
    }
   ],
   "source": [
    "df.info()"
   ]
  },
  {
   "cell_type": "code",
   "execution_count": 13,
   "id": "906b0949-9a18-426a-944c-aef6550c1920",
   "metadata": {
    "tags": []
   },
   "outputs": [
    {
     "data": {
      "text/html": [
       "<div>\n",
       "<style scoped>\n",
       "    .dataframe tbody tr th:only-of-type {\n",
       "        vertical-align: middle;\n",
       "    }\n",
       "\n",
       "    .dataframe tbody tr th {\n",
       "        vertical-align: top;\n",
       "    }\n",
       "\n",
       "    .dataframe thead th {\n",
       "        text-align: right;\n",
       "    }\n",
       "</style>\n",
       "<table border=\"1\" class=\"dataframe\">\n",
       "  <thead>\n",
       "    <tr style=\"text-align: right;\">\n",
       "      <th></th>\n",
       "      <th>day</th>\n",
       "      <th>month</th>\n",
       "      <th>year</th>\n",
       "      <th>Temperature</th>\n",
       "      <th>RH</th>\n",
       "      <th>Ws</th>\n",
       "      <th>Rain</th>\n",
       "      <th>FFMC</th>\n",
       "      <th>DMC</th>\n",
       "      <th>DC</th>\n",
       "      <th>ISI</th>\n",
       "      <th>BUI</th>\n",
       "      <th>FWI</th>\n",
       "      <th>Classes</th>\n",
       "      <th>Region</th>\n",
       "    </tr>\n",
       "  </thead>\n",
       "  <tbody>\n",
       "    <tr>\n",
       "      <th>0</th>\n",
       "      <td>1</td>\n",
       "      <td>6</td>\n",
       "      <td>2012</td>\n",
       "      <td>29</td>\n",
       "      <td>57</td>\n",
       "      <td>18</td>\n",
       "      <td>0</td>\n",
       "      <td>65.7</td>\n",
       "      <td>3.4</td>\n",
       "      <td>7.6</td>\n",
       "      <td>1.3</td>\n",
       "      <td>3.4</td>\n",
       "      <td>0.5</td>\n",
       "      <td>not fire</td>\n",
       "      <td>0</td>\n",
       "    </tr>\n",
       "    <tr>\n",
       "      <th>1</th>\n",
       "      <td>2</td>\n",
       "      <td>6</td>\n",
       "      <td>2012</td>\n",
       "      <td>29</td>\n",
       "      <td>61</td>\n",
       "      <td>13</td>\n",
       "      <td>1.3</td>\n",
       "      <td>64.4</td>\n",
       "      <td>4.1</td>\n",
       "      <td>7.6</td>\n",
       "      <td>1</td>\n",
       "      <td>3.9</td>\n",
       "      <td>0.4</td>\n",
       "      <td>not fire</td>\n",
       "      <td>0</td>\n",
       "    </tr>\n",
       "    <tr>\n",
       "      <th>2</th>\n",
       "      <td>3</td>\n",
       "      <td>6</td>\n",
       "      <td>2012</td>\n",
       "      <td>26</td>\n",
       "      <td>82</td>\n",
       "      <td>22</td>\n",
       "      <td>13.1</td>\n",
       "      <td>47.1</td>\n",
       "      <td>2.5</td>\n",
       "      <td>7.1</td>\n",
       "      <td>0.3</td>\n",
       "      <td>2.7</td>\n",
       "      <td>0.1</td>\n",
       "      <td>not fire</td>\n",
       "      <td>0</td>\n",
       "    </tr>\n",
       "    <tr>\n",
       "      <th>3</th>\n",
       "      <td>4</td>\n",
       "      <td>6</td>\n",
       "      <td>2012</td>\n",
       "      <td>25</td>\n",
       "      <td>89</td>\n",
       "      <td>13</td>\n",
       "      <td>2.5</td>\n",
       "      <td>28.6</td>\n",
       "      <td>1.3</td>\n",
       "      <td>6.9</td>\n",
       "      <td>0</td>\n",
       "      <td>1.7</td>\n",
       "      <td>0</td>\n",
       "      <td>not fire</td>\n",
       "      <td>0</td>\n",
       "    </tr>\n",
       "    <tr>\n",
       "      <th>4</th>\n",
       "      <td>5</td>\n",
       "      <td>6</td>\n",
       "      <td>2012</td>\n",
       "      <td>27</td>\n",
       "      <td>77</td>\n",
       "      <td>16</td>\n",
       "      <td>0</td>\n",
       "      <td>64.8</td>\n",
       "      <td>3</td>\n",
       "      <td>14.2</td>\n",
       "      <td>1.2</td>\n",
       "      <td>3.9</td>\n",
       "      <td>0.5</td>\n",
       "      <td>not fire</td>\n",
       "      <td>0</td>\n",
       "    </tr>\n",
       "  </tbody>\n",
       "</table>\n",
       "</div>"
      ],
      "text/plain": [
       "  day month  year Temperature  RH  Ws Rain   FFMC  DMC    DC  ISI  BUI  FWI  \\\n",
       "0   1     6  2012          29  57  18     0  65.7  3.4   7.6  1.3  3.4  0.5   \n",
       "1   2     6  2012          29  61  13   1.3  64.4  4.1   7.6    1  3.9  0.4   \n",
       "2   3     6  2012          26  82  22  13.1  47.1  2.5   7.1  0.3  2.7  0.1   \n",
       "3   4     6  2012          25  89  13   2.5  28.6  1.3   6.9    0  1.7    0   \n",
       "4   5     6  2012          27  77  16     0  64.8    3  14.2  1.2  3.9  0.5   \n",
       "\n",
       "     Classes    Region  \n",
       "0  not fire          0  \n",
       "1  not fire          0  \n",
       "2  not fire          0  \n",
       "3  not fire          0  \n",
       "4  not fire          0  "
      ]
     },
     "execution_count": 13,
     "metadata": {},
     "output_type": "execute_result"
    }
   ],
   "source": [
    "df.head()"
   ]
  },
  {
   "cell_type": "code",
   "execution_count": 14,
   "id": "3fe509ae-bd8c-41dd-9f12-2868321dce2b",
   "metadata": {
    "tags": []
   },
   "outputs": [],
   "source": [
    "df_copy = df.dropna()"
   ]
  },
  {
   "cell_type": "code",
   "execution_count": 15,
   "id": "fca3168a-1861-4d98-af6c-9688995635bc",
   "metadata": {
    "tags": []
   },
   "outputs": [
    {
     "data": {
      "text/plain": [
       "day            0\n",
       "month          0\n",
       "year           0\n",
       "Temperature    0\n",
       " RH            0\n",
       " Ws            0\n",
       "Rain           0\n",
       "FFMC           0\n",
       "DMC            0\n",
       "DC             0\n",
       "ISI            0\n",
       "BUI            0\n",
       "FWI            0\n",
       "Classes        0\n",
       "Region         0\n",
       "dtype: int64"
      ]
     },
     "execution_count": 15,
     "metadata": {},
     "output_type": "execute_result"
    }
   ],
   "source": [
    "df_copy.isnull().sum()"
   ]
  },
  {
   "cell_type": "code",
   "execution_count": 16,
   "id": "d7229fc8-bb2e-4b4f-9d56-9d7304d1460c",
   "metadata": {
    "tags": []
   },
   "outputs": [
    {
     "data": {
      "text/html": [
       "<div>\n",
       "<style scoped>\n",
       "    .dataframe tbody tr th:only-of-type {\n",
       "        vertical-align: middle;\n",
       "    }\n",
       "\n",
       "    .dataframe tbody tr th {\n",
       "        vertical-align: top;\n",
       "    }\n",
       "\n",
       "    .dataframe thead th {\n",
       "        text-align: right;\n",
       "    }\n",
       "</style>\n",
       "<table border=\"1\" class=\"dataframe\">\n",
       "  <thead>\n",
       "    <tr style=\"text-align: right;\">\n",
       "      <th></th>\n",
       "      <th>day</th>\n",
       "      <th>month</th>\n",
       "      <th>year</th>\n",
       "      <th>Temperature</th>\n",
       "      <th>RH</th>\n",
       "      <th>Ws</th>\n",
       "      <th>Rain</th>\n",
       "      <th>FFMC</th>\n",
       "      <th>DMC</th>\n",
       "      <th>DC</th>\n",
       "      <th>ISI</th>\n",
       "      <th>BUI</th>\n",
       "      <th>FWI</th>\n",
       "      <th>Classes</th>\n",
       "      <th>Region</th>\n",
       "    </tr>\n",
       "  </thead>\n",
       "  <tbody>\n",
       "    <tr>\n",
       "      <th>124</th>\n",
       "      <td>day</td>\n",
       "      <td>month</td>\n",
       "      <td>year</td>\n",
       "      <td>Temperature</td>\n",
       "      <td>RH</td>\n",
       "      <td>Ws</td>\n",
       "      <td>Rain</td>\n",
       "      <td>FFMC</td>\n",
       "      <td>DMC</td>\n",
       "      <td>DC</td>\n",
       "      <td>ISI</td>\n",
       "      <td>BUI</td>\n",
       "      <td>FWI</td>\n",
       "      <td>Classes</td>\n",
       "      <td>1</td>\n",
       "    </tr>\n",
       "  </tbody>\n",
       "</table>\n",
       "</div>"
      ],
      "text/plain": [
       "     day  month  year  Temperature   RH   Ws  Rain   FFMC  DMC  DC  ISI  BUI  \\\n",
       "124  day  month  year  Temperature   RH   Ws  Rain   FFMC  DMC  DC  ISI  BUI   \n",
       "\n",
       "     FWI  Classes    Region  \n",
       "124  FWI  Classes         1  "
      ]
     },
     "execution_count": 16,
     "metadata": {},
     "output_type": "execute_result"
    }
   ],
   "source": [
    "df_copy.iloc[[122]]"
   ]
  },
  {
   "cell_type": "code",
   "execution_count": 17,
   "id": "741d1f69-b24f-48ee-93f2-735bfad51b62",
   "metadata": {
    "tags": []
   },
   "outputs": [],
   "source": [
    "df_copy = df_copy.reset_index(drop=True)"
   ]
  },
  {
   "cell_type": "code",
   "execution_count": 18,
   "id": "e18272e5-4189-44c7-a659-328fbdc65b4f",
   "metadata": {
    "tags": []
   },
   "outputs": [
    {
     "data": {
      "text/html": [
       "<div>\n",
       "<style scoped>\n",
       "    .dataframe tbody tr th:only-of-type {\n",
       "        vertical-align: middle;\n",
       "    }\n",
       "\n",
       "    .dataframe tbody tr th {\n",
       "        vertical-align: top;\n",
       "    }\n",
       "\n",
       "    .dataframe thead th {\n",
       "        text-align: right;\n",
       "    }\n",
       "</style>\n",
       "<table border=\"1\" class=\"dataframe\">\n",
       "  <thead>\n",
       "    <tr style=\"text-align: right;\">\n",
       "      <th></th>\n",
       "      <th>day</th>\n",
       "      <th>month</th>\n",
       "      <th>year</th>\n",
       "      <th>Temperature</th>\n",
       "      <th>RH</th>\n",
       "      <th>Ws</th>\n",
       "      <th>Rain</th>\n",
       "      <th>FFMC</th>\n",
       "      <th>DMC</th>\n",
       "      <th>DC</th>\n",
       "      <th>ISI</th>\n",
       "      <th>BUI</th>\n",
       "      <th>FWI</th>\n",
       "      <th>Classes</th>\n",
       "      <th>Region</th>\n",
       "    </tr>\n",
       "  </thead>\n",
       "  <tbody>\n",
       "    <tr>\n",
       "      <th>122</th>\n",
       "      <td>day</td>\n",
       "      <td>month</td>\n",
       "      <td>year</td>\n",
       "      <td>Temperature</td>\n",
       "      <td>RH</td>\n",
       "      <td>Ws</td>\n",
       "      <td>Rain</td>\n",
       "      <td>FFMC</td>\n",
       "      <td>DMC</td>\n",
       "      <td>DC</td>\n",
       "      <td>ISI</td>\n",
       "      <td>BUI</td>\n",
       "      <td>FWI</td>\n",
       "      <td>Classes</td>\n",
       "      <td>1</td>\n",
       "    </tr>\n",
       "  </tbody>\n",
       "</table>\n",
       "</div>"
      ],
      "text/plain": [
       "     day  month  year  Temperature   RH   Ws  Rain   FFMC  DMC  DC  ISI  BUI  \\\n",
       "122  day  month  year  Temperature   RH   Ws  Rain   FFMC  DMC  DC  ISI  BUI   \n",
       "\n",
       "     FWI  Classes    Region  \n",
       "122  FWI  Classes         1  "
      ]
     },
     "execution_count": 18,
     "metadata": {},
     "output_type": "execute_result"
    }
   ],
   "source": [
    "df_copy.iloc[[122]]"
   ]
  },
  {
   "cell_type": "code",
   "execution_count": 21,
   "id": "c6205ebc-ab81-41f3-b4e3-5d13ba56aee8",
   "metadata": {
    "tags": []
   },
   "outputs": [],
   "source": [
    "df_copy = df_copy.drop(122).reset_index(drop=True)"
   ]
  },
  {
   "cell_type": "code",
   "execution_count": 22,
   "id": "b5c47d8c-1218-40f6-9aa1-5c6b881c6d3b",
   "metadata": {
    "tags": []
   },
   "outputs": [
    {
     "data": {
      "text/html": [
       "<div>\n",
       "<style scoped>\n",
       "    .dataframe tbody tr th:only-of-type {\n",
       "        vertical-align: middle;\n",
       "    }\n",
       "\n",
       "    .dataframe tbody tr th {\n",
       "        vertical-align: top;\n",
       "    }\n",
       "\n",
       "    .dataframe thead th {\n",
       "        text-align: right;\n",
       "    }\n",
       "</style>\n",
       "<table border=\"1\" class=\"dataframe\">\n",
       "  <thead>\n",
       "    <tr style=\"text-align: right;\">\n",
       "      <th></th>\n",
       "      <th>day</th>\n",
       "      <th>month</th>\n",
       "      <th>year</th>\n",
       "      <th>Temperature</th>\n",
       "      <th>RH</th>\n",
       "      <th>Ws</th>\n",
       "      <th>Rain</th>\n",
       "      <th>FFMC</th>\n",
       "      <th>DMC</th>\n",
       "      <th>DC</th>\n",
       "      <th>ISI</th>\n",
       "      <th>BUI</th>\n",
       "      <th>FWI</th>\n",
       "      <th>Classes</th>\n",
       "      <th>Region</th>\n",
       "    </tr>\n",
       "  </thead>\n",
       "  <tbody>\n",
       "    <tr>\n",
       "      <th>122</th>\n",
       "      <td>1</td>\n",
       "      <td>6</td>\n",
       "      <td>2012</td>\n",
       "      <td>32</td>\n",
       "      <td>71</td>\n",
       "      <td>12</td>\n",
       "      <td>0.7</td>\n",
       "      <td>57.1</td>\n",
       "      <td>2.5</td>\n",
       "      <td>8.2</td>\n",
       "      <td>0.6</td>\n",
       "      <td>2.8</td>\n",
       "      <td>0.2</td>\n",
       "      <td>not fire</td>\n",
       "      <td>1</td>\n",
       "    </tr>\n",
       "  </tbody>\n",
       "</table>\n",
       "</div>"
      ],
      "text/plain": [
       "    day month  year Temperature  RH  Ws Rain   FFMC  DMC   DC  ISI  BUI  FWI  \\\n",
       "122   1     6  2012          32  71  12   0.7  57.1  2.5  8.2  0.6  2.8  0.2   \n",
       "\n",
       "       Classes    Region  \n",
       "122  not fire          1  "
      ]
     },
     "execution_count": 22,
     "metadata": {},
     "output_type": "execute_result"
    }
   ],
   "source": [
    "df_copy.iloc[[122]]"
   ]
  },
  {
   "cell_type": "code",
   "execution_count": 23,
   "id": "1352b4e9-ba2b-45a7-8c09-c4e11cefe1c0",
   "metadata": {
    "tags": []
   },
   "outputs": [
    {
     "data": {
      "text/plain": [
       "Index(['day', 'month', 'year', 'Temperature', ' RH', ' Ws', 'Rain ', 'FFMC',\n",
       "       'DMC', 'DC', 'ISI', 'BUI', 'FWI', 'Classes  ', 'Region'],\n",
       "      dtype='object')"
      ]
     },
     "execution_count": 23,
     "metadata": {},
     "output_type": "execute_result"
    }
   ],
   "source": [
    "df_copy.columns"
   ]
  },
  {
   "cell_type": "code",
   "execution_count": 24,
   "id": "faca7a8b-51b7-447f-8800-c56183da01f7",
   "metadata": {
    "tags": []
   },
   "outputs": [],
   "source": [
    "## remove spaces in the name of columns\n",
    "df_copy.columns = df_copy.columns.str.strip()"
   ]
  },
  {
   "cell_type": "code",
   "execution_count": 25,
   "id": "3081cfe4-ebe9-4c4e-af94-47763da9659e",
   "metadata": {
    "tags": []
   },
   "outputs": [
    {
     "data": {
      "text/plain": [
       "Index(['day', 'month', 'year', 'Temperature', 'RH', 'Ws', 'Rain', 'FFMC',\n",
       "       'DMC', 'DC', 'ISI', 'BUI', 'FWI', 'Classes', 'Region'],\n",
       "      dtype='object')"
      ]
     },
     "execution_count": 25,
     "metadata": {},
     "output_type": "execute_result"
    }
   ],
   "source": [
    "df_copy.columns "
   ]
  },
  {
   "cell_type": "markdown",
   "id": "06092e60-95f6-469c-b1c7-cd14d7e3297e",
   "metadata": {},
   "source": [
    "## Change required data types to integer"
   ]
  },
  {
   "cell_type": "code",
   "execution_count": 29,
   "id": "cb2e6a40-9c65-4f5c-be6c-bbc1c554b718",
   "metadata": {
    "tags": []
   },
   "outputs": [],
   "source": [
    "df_copy[['day', 'month', 'year', 'Temperature', 'RH', 'Ws']] = df_copy[['day', 'month', 'year', 'Temperature', 'RH', 'Ws']].astype(int)"
   ]
  },
  {
   "cell_type": "code",
   "execution_count": 30,
   "id": "7af46b87-1a60-4451-8d5a-05e6a14dad75",
   "metadata": {
    "tags": []
   },
   "outputs": [
    {
     "name": "stdout",
     "output_type": "stream",
     "text": [
      "<class 'pandas.core.frame.DataFrame'>\n",
      "RangeIndex: 244 entries, 0 to 243\n",
      "Data columns (total 15 columns):\n",
      " #   Column       Non-Null Count  Dtype \n",
      "---  ------       --------------  ----- \n",
      " 0   day          244 non-null    int64 \n",
      " 1   month        244 non-null    int64 \n",
      " 2   year         244 non-null    int64 \n",
      " 3   Temperature  244 non-null    int64 \n",
      " 4   RH           244 non-null    int64 \n",
      " 5   Ws           244 non-null    int64 \n",
      " 6   Rain         244 non-null    object\n",
      " 7   FFMC         244 non-null    object\n",
      " 8   DMC          244 non-null    object\n",
      " 9   DC           244 non-null    object\n",
      " 10  ISI          244 non-null    object\n",
      " 11  BUI          244 non-null    object\n",
      " 12  FWI          244 non-null    object\n",
      " 13  Classes      244 non-null    object\n",
      " 14  Region       244 non-null    int64 \n",
      "dtypes: int64(7), object(8)\n",
      "memory usage: 28.7+ KB\n"
     ]
    }
   ],
   "source": [
    "df_copy.info()"
   ]
  },
  {
   "cell_type": "markdown",
   "id": "541744d0-7759-42fa-bde3-5d003ace429d",
   "metadata": {},
   "source": [
    "## convert Rain\tFFMC\tDMC\tDC\tISI\tBUI\tFWI to float"
   ]
  },
  {
   "cell_type": "code",
   "execution_count": 31,
   "id": "a9b38979-04b7-4a46-b41b-fbeaf76f5106",
   "metadata": {
    "tags": []
   },
   "outputs": [],
   "source": [
    "df_copy[['Rain', 'FFMC','DMC', 'DC', 'ISI', 'BUI', 'FWI']] = df_copy[['Rain', 'FFMC','DMC', 'DC', 'ISI', 'BUI', 'FWI']].astype(float)"
   ]
  },
  {
   "cell_type": "code",
   "execution_count": 32,
   "id": "6a1a4614-4652-4709-9dd0-f2503633b760",
   "metadata": {
    "tags": []
   },
   "outputs": [
    {
     "name": "stdout",
     "output_type": "stream",
     "text": [
      "<class 'pandas.core.frame.DataFrame'>\n",
      "RangeIndex: 244 entries, 0 to 243\n",
      "Data columns (total 15 columns):\n",
      " #   Column       Non-Null Count  Dtype  \n",
      "---  ------       --------------  -----  \n",
      " 0   day          244 non-null    int64  \n",
      " 1   month        244 non-null    int64  \n",
      " 2   year         244 non-null    int64  \n",
      " 3   Temperature  244 non-null    int64  \n",
      " 4   RH           244 non-null    int64  \n",
      " 5   Ws           244 non-null    int64  \n",
      " 6   Rain         244 non-null    float64\n",
      " 7   FFMC         244 non-null    float64\n",
      " 8   DMC          244 non-null    float64\n",
      " 9   DC           244 non-null    float64\n",
      " 10  ISI          244 non-null    float64\n",
      " 11  BUI          244 non-null    float64\n",
      " 12  FWI          244 non-null    float64\n",
      " 13  Classes      244 non-null    object \n",
      " 14  Region       244 non-null    int64  \n",
      "dtypes: float64(7), int64(7), object(1)\n",
      "memory usage: 28.7+ KB\n"
     ]
    }
   ],
   "source": [
    "df_copy.info()"
   ]
  },
  {
   "cell_type": "code",
   "execution_count": 34,
   "id": "4a9eb60a-9833-4efd-b123-2688f00952a6",
   "metadata": {
    "tags": []
   },
   "outputs": [
    {
     "data": {
      "text/html": [
       "<div>\n",
       "<style scoped>\n",
       "    .dataframe tbody tr th:only-of-type {\n",
       "        vertical-align: middle;\n",
       "    }\n",
       "\n",
       "    .dataframe tbody tr th {\n",
       "        vertical-align: top;\n",
       "    }\n",
       "\n",
       "    .dataframe thead th {\n",
       "        text-align: right;\n",
       "    }\n",
       "</style>\n",
       "<table border=\"1\" class=\"dataframe\">\n",
       "  <thead>\n",
       "    <tr style=\"text-align: right;\">\n",
       "      <th></th>\n",
       "      <th>day</th>\n",
       "      <th>month</th>\n",
       "      <th>year</th>\n",
       "      <th>Temperature</th>\n",
       "      <th>RH</th>\n",
       "      <th>Ws</th>\n",
       "      <th>Rain</th>\n",
       "      <th>FFMC</th>\n",
       "      <th>DMC</th>\n",
       "      <th>DC</th>\n",
       "      <th>ISI</th>\n",
       "      <th>BUI</th>\n",
       "      <th>FWI</th>\n",
       "      <th>Region</th>\n",
       "    </tr>\n",
       "  </thead>\n",
       "  <tbody>\n",
       "    <tr>\n",
       "      <th>count</th>\n",
       "      <td>244.000000</td>\n",
       "      <td>244.000000</td>\n",
       "      <td>244.0</td>\n",
       "      <td>244.000000</td>\n",
       "      <td>244.000000</td>\n",
       "      <td>244.000000</td>\n",
       "      <td>244.000000</td>\n",
       "      <td>244.000000</td>\n",
       "      <td>244.000000</td>\n",
       "      <td>244.000000</td>\n",
       "      <td>244.000000</td>\n",
       "      <td>244.000000</td>\n",
       "      <td>244.000000</td>\n",
       "      <td>244.000000</td>\n",
       "    </tr>\n",
       "    <tr>\n",
       "      <th>mean</th>\n",
       "      <td>15.754098</td>\n",
       "      <td>7.500000</td>\n",
       "      <td>2012.0</td>\n",
       "      <td>32.172131</td>\n",
       "      <td>61.938525</td>\n",
       "      <td>15.504098</td>\n",
       "      <td>0.760656</td>\n",
       "      <td>77.887705</td>\n",
       "      <td>14.673361</td>\n",
       "      <td>49.288115</td>\n",
       "      <td>4.759836</td>\n",
       "      <td>16.673361</td>\n",
       "      <td>7.049180</td>\n",
       "      <td>0.500000</td>\n",
       "    </tr>\n",
       "    <tr>\n",
       "      <th>std</th>\n",
       "      <td>8.825059</td>\n",
       "      <td>1.112961</td>\n",
       "      <td>0.0</td>\n",
       "      <td>3.633843</td>\n",
       "      <td>14.884200</td>\n",
       "      <td>2.810178</td>\n",
       "      <td>1.999406</td>\n",
       "      <td>14.337571</td>\n",
       "      <td>12.368039</td>\n",
       "      <td>47.619662</td>\n",
       "      <td>4.154628</td>\n",
       "      <td>14.201648</td>\n",
       "      <td>7.428366</td>\n",
       "      <td>0.501028</td>\n",
       "    </tr>\n",
       "    <tr>\n",
       "      <th>min</th>\n",
       "      <td>1.000000</td>\n",
       "      <td>6.000000</td>\n",
       "      <td>2012.0</td>\n",
       "      <td>22.000000</td>\n",
       "      <td>21.000000</td>\n",
       "      <td>6.000000</td>\n",
       "      <td>0.000000</td>\n",
       "      <td>28.600000</td>\n",
       "      <td>0.700000</td>\n",
       "      <td>6.900000</td>\n",
       "      <td>0.000000</td>\n",
       "      <td>1.100000</td>\n",
       "      <td>0.000000</td>\n",
       "      <td>0.000000</td>\n",
       "    </tr>\n",
       "    <tr>\n",
       "      <th>25%</th>\n",
       "      <td>8.000000</td>\n",
       "      <td>7.000000</td>\n",
       "      <td>2012.0</td>\n",
       "      <td>30.000000</td>\n",
       "      <td>52.000000</td>\n",
       "      <td>14.000000</td>\n",
       "      <td>0.000000</td>\n",
       "      <td>72.075000</td>\n",
       "      <td>5.800000</td>\n",
       "      <td>13.275000</td>\n",
       "      <td>1.400000</td>\n",
       "      <td>6.000000</td>\n",
       "      <td>0.700000</td>\n",
       "      <td>0.000000</td>\n",
       "    </tr>\n",
       "    <tr>\n",
       "      <th>50%</th>\n",
       "      <td>16.000000</td>\n",
       "      <td>7.500000</td>\n",
       "      <td>2012.0</td>\n",
       "      <td>32.000000</td>\n",
       "      <td>63.000000</td>\n",
       "      <td>15.000000</td>\n",
       "      <td>0.000000</td>\n",
       "      <td>83.500000</td>\n",
       "      <td>11.300000</td>\n",
       "      <td>33.100000</td>\n",
       "      <td>3.500000</td>\n",
       "      <td>12.450000</td>\n",
       "      <td>4.450000</td>\n",
       "      <td>0.500000</td>\n",
       "    </tr>\n",
       "    <tr>\n",
       "      <th>75%</th>\n",
       "      <td>23.000000</td>\n",
       "      <td>8.000000</td>\n",
       "      <td>2012.0</td>\n",
       "      <td>35.000000</td>\n",
       "      <td>73.250000</td>\n",
       "      <td>17.000000</td>\n",
       "      <td>0.500000</td>\n",
       "      <td>88.300000</td>\n",
       "      <td>20.750000</td>\n",
       "      <td>68.150000</td>\n",
       "      <td>7.300000</td>\n",
       "      <td>22.525000</td>\n",
       "      <td>11.375000</td>\n",
       "      <td>1.000000</td>\n",
       "    </tr>\n",
       "    <tr>\n",
       "      <th>max</th>\n",
       "      <td>31.000000</td>\n",
       "      <td>9.000000</td>\n",
       "      <td>2012.0</td>\n",
       "      <td>42.000000</td>\n",
       "      <td>90.000000</td>\n",
       "      <td>29.000000</td>\n",
       "      <td>16.800000</td>\n",
       "      <td>96.000000</td>\n",
       "      <td>65.900000</td>\n",
       "      <td>220.400000</td>\n",
       "      <td>19.000000</td>\n",
       "      <td>68.000000</td>\n",
       "      <td>31.100000</td>\n",
       "      <td>1.000000</td>\n",
       "    </tr>\n",
       "  </tbody>\n",
       "</table>\n",
       "</div>"
      ],
      "text/plain": [
       "              day       month    year  Temperature          RH          Ws  \\\n",
       "count  244.000000  244.000000   244.0   244.000000  244.000000  244.000000   \n",
       "mean    15.754098    7.500000  2012.0    32.172131   61.938525   15.504098   \n",
       "std      8.825059    1.112961     0.0     3.633843   14.884200    2.810178   \n",
       "min      1.000000    6.000000  2012.0    22.000000   21.000000    6.000000   \n",
       "25%      8.000000    7.000000  2012.0    30.000000   52.000000   14.000000   \n",
       "50%     16.000000    7.500000  2012.0    32.000000   63.000000   15.000000   \n",
       "75%     23.000000    8.000000  2012.0    35.000000   73.250000   17.000000   \n",
       "max     31.000000    9.000000  2012.0    42.000000   90.000000   29.000000   \n",
       "\n",
       "             Rain        FFMC         DMC          DC         ISI         BUI  \\\n",
       "count  244.000000  244.000000  244.000000  244.000000  244.000000  244.000000   \n",
       "mean     0.760656   77.887705   14.673361   49.288115    4.759836   16.673361   \n",
       "std      1.999406   14.337571   12.368039   47.619662    4.154628   14.201648   \n",
       "min      0.000000   28.600000    0.700000    6.900000    0.000000    1.100000   \n",
       "25%      0.000000   72.075000    5.800000   13.275000    1.400000    6.000000   \n",
       "50%      0.000000   83.500000   11.300000   33.100000    3.500000   12.450000   \n",
       "75%      0.500000   88.300000   20.750000   68.150000    7.300000   22.525000   \n",
       "max     16.800000   96.000000   65.900000  220.400000   19.000000   68.000000   \n",
       "\n",
       "              FWI      Region  \n",
       "count  244.000000  244.000000  \n",
       "mean     7.049180    0.500000  \n",
       "std      7.428366    0.501028  \n",
       "min      0.000000    0.000000  \n",
       "25%      0.700000    0.000000  \n",
       "50%      4.450000    0.500000  \n",
       "75%     11.375000    1.000000  \n",
       "max     31.100000    1.000000  "
      ]
     },
     "execution_count": 34,
     "metadata": {},
     "output_type": "execute_result"
    }
   ],
   "source": [
    "df_copy.describe()"
   ]
  },
  {
   "cell_type": "code",
   "execution_count": 35,
   "id": "f057bc2e-a078-4a70-bc1b-0401e6bb4c60",
   "metadata": {
    "tags": []
   },
   "outputs": [
    {
     "name": "stderr",
     "output_type": "stream",
     "text": [
      "/tmp/ipykernel_42171/382007831.py:1: FutureWarning: The default value of numeric_only in DataFrame.corr is deprecated. In a future version, it will default to False. Select only valid columns or specify the value of numeric_only to silence this warning.\n",
      "  df_copy.corr()\n"
     ]
    },
    {
     "data": {
      "text/html": [
       "<div>\n",
       "<style scoped>\n",
       "    .dataframe tbody tr th:only-of-type {\n",
       "        vertical-align: middle;\n",
       "    }\n",
       "\n",
       "    .dataframe tbody tr th {\n",
       "        vertical-align: top;\n",
       "    }\n",
       "\n",
       "    .dataframe thead th {\n",
       "        text-align: right;\n",
       "    }\n",
       "</style>\n",
       "<table border=\"1\" class=\"dataframe\">\n",
       "  <thead>\n",
       "    <tr style=\"text-align: right;\">\n",
       "      <th></th>\n",
       "      <th>day</th>\n",
       "      <th>month</th>\n",
       "      <th>year</th>\n",
       "      <th>Temperature</th>\n",
       "      <th>RH</th>\n",
       "      <th>Ws</th>\n",
       "      <th>Rain</th>\n",
       "      <th>FFMC</th>\n",
       "      <th>DMC</th>\n",
       "      <th>DC</th>\n",
       "      <th>ISI</th>\n",
       "      <th>BUI</th>\n",
       "      <th>FWI</th>\n",
       "      <th>Region</th>\n",
       "    </tr>\n",
       "  </thead>\n",
       "  <tbody>\n",
       "    <tr>\n",
       "      <th>day</th>\n",
       "      <td>1.000000e+00</td>\n",
       "      <td>2.232788e-17</td>\n",
       "      <td>NaN</td>\n",
       "      <td>0.095772</td>\n",
       "      <td>-0.074209</td>\n",
       "      <td>0.047001</td>\n",
       "      <td>-0.112265</td>\n",
       "      <td>0.224032</td>\n",
       "      <td>0.491571</td>\n",
       "      <td>0.527929</td>\n",
       "      <td>0.179301</td>\n",
       "      <td>0.517224</td>\n",
       "      <td>0.350234</td>\n",
       "      <td>4.662229e-16</td>\n",
       "    </tr>\n",
       "    <tr>\n",
       "      <th>month</th>\n",
       "      <td>2.232788e-17</td>\n",
       "      <td>1.000000e+00</td>\n",
       "      <td>NaN</td>\n",
       "      <td>-0.059017</td>\n",
       "      <td>-0.037884</td>\n",
       "      <td>-0.041447</td>\n",
       "      <td>0.035322</td>\n",
       "      <td>0.015577</td>\n",
       "      <td>0.068178</td>\n",
       "      <td>0.127672</td>\n",
       "      <td>0.063545</td>\n",
       "      <td>0.085567</td>\n",
       "      <td>0.081732</td>\n",
       "      <td>-9.586232e-17</td>\n",
       "    </tr>\n",
       "    <tr>\n",
       "      <th>year</th>\n",
       "      <td>NaN</td>\n",
       "      <td>NaN</td>\n",
       "      <td>NaN</td>\n",
       "      <td>NaN</td>\n",
       "      <td>NaN</td>\n",
       "      <td>NaN</td>\n",
       "      <td>NaN</td>\n",
       "      <td>NaN</td>\n",
       "      <td>NaN</td>\n",
       "      <td>NaN</td>\n",
       "      <td>NaN</td>\n",
       "      <td>NaN</td>\n",
       "      <td>NaN</td>\n",
       "      <td>NaN</td>\n",
       "    </tr>\n",
       "    <tr>\n",
       "      <th>Temperature</th>\n",
       "      <td>9.577222e-02</td>\n",
       "      <td>-5.901677e-02</td>\n",
       "      <td>NaN</td>\n",
       "      <td>1.000000</td>\n",
       "      <td>-0.654443</td>\n",
       "      <td>-0.278132</td>\n",
       "      <td>-0.326786</td>\n",
       "      <td>0.677491</td>\n",
       "      <td>0.483105</td>\n",
       "      <td>0.370498</td>\n",
       "      <td>0.605971</td>\n",
       "      <td>0.456415</td>\n",
       "      <td>0.566839</td>\n",
       "      <td>2.734961e-01</td>\n",
       "    </tr>\n",
       "    <tr>\n",
       "      <th>RH</th>\n",
       "      <td>-7.420934e-02</td>\n",
       "      <td>-3.788419e-02</td>\n",
       "      <td>NaN</td>\n",
       "      <td>-0.654443</td>\n",
       "      <td>1.000000</td>\n",
       "      <td>0.236084</td>\n",
       "      <td>0.222968</td>\n",
       "      <td>-0.645658</td>\n",
       "      <td>-0.405133</td>\n",
       "      <td>-0.220330</td>\n",
       "      <td>-0.688268</td>\n",
       "      <td>-0.349685</td>\n",
       "      <td>-0.580457</td>\n",
       "      <td>-4.064239e-01</td>\n",
       "    </tr>\n",
       "    <tr>\n",
       "      <th>Ws</th>\n",
       "      <td>4.700086e-02</td>\n",
       "      <td>-4.144673e-02</td>\n",
       "      <td>NaN</td>\n",
       "      <td>-0.278132</td>\n",
       "      <td>0.236084</td>\n",
       "      <td>1.000000</td>\n",
       "      <td>0.170169</td>\n",
       "      <td>-0.163255</td>\n",
       "      <td>-0.001246</td>\n",
       "      <td>0.076245</td>\n",
       "      <td>0.012245</td>\n",
       "      <td>0.030303</td>\n",
       "      <td>0.033957</td>\n",
       "      <td>-1.768290e-01</td>\n",
       "    </tr>\n",
       "    <tr>\n",
       "      <th>Rain</th>\n",
       "      <td>-1.122654e-01</td>\n",
       "      <td>3.532207e-02</td>\n",
       "      <td>NaN</td>\n",
       "      <td>-0.326786</td>\n",
       "      <td>0.222968</td>\n",
       "      <td>0.170169</td>\n",
       "      <td>1.000000</td>\n",
       "      <td>-0.544045</td>\n",
       "      <td>-0.288548</td>\n",
       "      <td>-0.296804</td>\n",
       "      <td>-0.347862</td>\n",
       "      <td>-0.299409</td>\n",
       "      <td>-0.324755</td>\n",
       "      <td>-4.108006e-02</td>\n",
       "    </tr>\n",
       "    <tr>\n",
       "      <th>FFMC</th>\n",
       "      <td>2.240321e-01</td>\n",
       "      <td>1.557668e-02</td>\n",
       "      <td>NaN</td>\n",
       "      <td>0.677491</td>\n",
       "      <td>-0.645658</td>\n",
       "      <td>-0.163255</td>\n",
       "      <td>-0.544045</td>\n",
       "      <td>1.000000</td>\n",
       "      <td>0.602391</td>\n",
       "      <td>0.503910</td>\n",
       "      <td>0.740751</td>\n",
       "      <td>0.590251</td>\n",
       "      <td>0.691430</td>\n",
       "      <td>2.246798e-01</td>\n",
       "    </tr>\n",
       "    <tr>\n",
       "      <th>DMC</th>\n",
       "      <td>4.915710e-01</td>\n",
       "      <td>6.817778e-02</td>\n",
       "      <td>NaN</td>\n",
       "      <td>0.483105</td>\n",
       "      <td>-0.405133</td>\n",
       "      <td>-0.001246</td>\n",
       "      <td>-0.288548</td>\n",
       "      <td>0.602391</td>\n",
       "      <td>1.000000</td>\n",
       "      <td>0.875358</td>\n",
       "      <td>0.678355</td>\n",
       "      <td>0.982206</td>\n",
       "      <td>0.875191</td>\n",
       "      <td>1.910937e-01</td>\n",
       "    </tr>\n",
       "    <tr>\n",
       "      <th>DC</th>\n",
       "      <td>5.279285e-01</td>\n",
       "      <td>1.276719e-01</td>\n",
       "      <td>NaN</td>\n",
       "      <td>0.370498</td>\n",
       "      <td>-0.220330</td>\n",
       "      <td>0.076245</td>\n",
       "      <td>-0.296804</td>\n",
       "      <td>0.503910</td>\n",
       "      <td>0.875358</td>\n",
       "      <td>1.000000</td>\n",
       "      <td>0.503919</td>\n",
       "      <td>0.941672</td>\n",
       "      <td>0.737041</td>\n",
       "      <td>-8.148947e-02</td>\n",
       "    </tr>\n",
       "    <tr>\n",
       "      <th>ISI</th>\n",
       "      <td>1.793008e-01</td>\n",
       "      <td>6.354476e-02</td>\n",
       "      <td>NaN</td>\n",
       "      <td>0.605971</td>\n",
       "      <td>-0.688268</td>\n",
       "      <td>0.012245</td>\n",
       "      <td>-0.347862</td>\n",
       "      <td>0.740751</td>\n",
       "      <td>0.678355</td>\n",
       "      <td>0.503919</td>\n",
       "      <td>1.000000</td>\n",
       "      <td>0.641351</td>\n",
       "      <td>0.922422</td>\n",
       "      <td>2.662977e-01</td>\n",
       "    </tr>\n",
       "    <tr>\n",
       "      <th>BUI</th>\n",
       "      <td>5.172239e-01</td>\n",
       "      <td>8.556743e-02</td>\n",
       "      <td>NaN</td>\n",
       "      <td>0.456415</td>\n",
       "      <td>-0.349685</td>\n",
       "      <td>0.030303</td>\n",
       "      <td>-0.299409</td>\n",
       "      <td>0.590251</td>\n",
       "      <td>0.982206</td>\n",
       "      <td>0.941672</td>\n",
       "      <td>0.641351</td>\n",
       "      <td>1.000000</td>\n",
       "      <td>0.856912</td>\n",
       "      <td>8.799645e-02</td>\n",
       "    </tr>\n",
       "    <tr>\n",
       "      <th>FWI</th>\n",
       "      <td>3.502343e-01</td>\n",
       "      <td>8.173226e-02</td>\n",
       "      <td>NaN</td>\n",
       "      <td>0.566839</td>\n",
       "      <td>-0.580457</td>\n",
       "      <td>0.033957</td>\n",
       "      <td>-0.324755</td>\n",
       "      <td>0.691430</td>\n",
       "      <td>0.875191</td>\n",
       "      <td>0.737041</td>\n",
       "      <td>0.922422</td>\n",
       "      <td>0.856912</td>\n",
       "      <td>1.000000</td>\n",
       "      <td>1.984738e-01</td>\n",
       "    </tr>\n",
       "    <tr>\n",
       "      <th>Region</th>\n",
       "      <td>4.662229e-16</td>\n",
       "      <td>-9.586232e-17</td>\n",
       "      <td>NaN</td>\n",
       "      <td>0.273496</td>\n",
       "      <td>-0.406424</td>\n",
       "      <td>-0.176829</td>\n",
       "      <td>-0.041080</td>\n",
       "      <td>0.224680</td>\n",
       "      <td>0.191094</td>\n",
       "      <td>-0.081489</td>\n",
       "      <td>0.266298</td>\n",
       "      <td>0.087996</td>\n",
       "      <td>0.198474</td>\n",
       "      <td>1.000000e+00</td>\n",
       "    </tr>\n",
       "  </tbody>\n",
       "</table>\n",
       "</div>"
      ],
      "text/plain": [
       "                      day         month  year  Temperature        RH  \\\n",
       "day          1.000000e+00  2.232788e-17   NaN     0.095772 -0.074209   \n",
       "month        2.232788e-17  1.000000e+00   NaN    -0.059017 -0.037884   \n",
       "year                  NaN           NaN   NaN          NaN       NaN   \n",
       "Temperature  9.577222e-02 -5.901677e-02   NaN     1.000000 -0.654443   \n",
       "RH          -7.420934e-02 -3.788419e-02   NaN    -0.654443  1.000000   \n",
       "Ws           4.700086e-02 -4.144673e-02   NaN    -0.278132  0.236084   \n",
       "Rain        -1.122654e-01  3.532207e-02   NaN    -0.326786  0.222968   \n",
       "FFMC         2.240321e-01  1.557668e-02   NaN     0.677491 -0.645658   \n",
       "DMC          4.915710e-01  6.817778e-02   NaN     0.483105 -0.405133   \n",
       "DC           5.279285e-01  1.276719e-01   NaN     0.370498 -0.220330   \n",
       "ISI          1.793008e-01  6.354476e-02   NaN     0.605971 -0.688268   \n",
       "BUI          5.172239e-01  8.556743e-02   NaN     0.456415 -0.349685   \n",
       "FWI          3.502343e-01  8.173226e-02   NaN     0.566839 -0.580457   \n",
       "Region       4.662229e-16 -9.586232e-17   NaN     0.273496 -0.406424   \n",
       "\n",
       "                   Ws      Rain      FFMC       DMC        DC       ISI  \\\n",
       "day          0.047001 -0.112265  0.224032  0.491571  0.527929  0.179301   \n",
       "month       -0.041447  0.035322  0.015577  0.068178  0.127672  0.063545   \n",
       "year              NaN       NaN       NaN       NaN       NaN       NaN   \n",
       "Temperature -0.278132 -0.326786  0.677491  0.483105  0.370498  0.605971   \n",
       "RH           0.236084  0.222968 -0.645658 -0.405133 -0.220330 -0.688268   \n",
       "Ws           1.000000  0.170169 -0.163255 -0.001246  0.076245  0.012245   \n",
       "Rain         0.170169  1.000000 -0.544045 -0.288548 -0.296804 -0.347862   \n",
       "FFMC        -0.163255 -0.544045  1.000000  0.602391  0.503910  0.740751   \n",
       "DMC         -0.001246 -0.288548  0.602391  1.000000  0.875358  0.678355   \n",
       "DC           0.076245 -0.296804  0.503910  0.875358  1.000000  0.503919   \n",
       "ISI          0.012245 -0.347862  0.740751  0.678355  0.503919  1.000000   \n",
       "BUI          0.030303 -0.299409  0.590251  0.982206  0.941672  0.641351   \n",
       "FWI          0.033957 -0.324755  0.691430  0.875191  0.737041  0.922422   \n",
       "Region      -0.176829 -0.041080  0.224680  0.191094 -0.081489  0.266298   \n",
       "\n",
       "                  BUI       FWI        Region  \n",
       "day          0.517224  0.350234  4.662229e-16  \n",
       "month        0.085567  0.081732 -9.586232e-17  \n",
       "year              NaN       NaN           NaN  \n",
       "Temperature  0.456415  0.566839  2.734961e-01  \n",
       "RH          -0.349685 -0.580457 -4.064239e-01  \n",
       "Ws           0.030303  0.033957 -1.768290e-01  \n",
       "Rain        -0.299409 -0.324755 -4.108006e-02  \n",
       "FFMC         0.590251  0.691430  2.246798e-01  \n",
       "DMC          0.982206  0.875191  1.910937e-01  \n",
       "DC           0.941672  0.737041 -8.148947e-02  \n",
       "ISI          0.641351  0.922422  2.662977e-01  \n",
       "BUI          1.000000  0.856912  8.799645e-02  \n",
       "FWI          0.856912  1.000000  1.984738e-01  \n",
       "Region       0.087996  0.198474  1.000000e+00  "
      ]
     },
     "execution_count": 35,
     "metadata": {},
     "output_type": "execute_result"
    }
   ],
   "source": [
    "df_copy.corr()"
   ]
  },
  {
   "cell_type": "code",
   "execution_count": 38,
   "id": "06d9b93d-9e8e-4789-b59a-aa818c4a6dc7",
   "metadata": {
    "tags": []
   },
   "outputs": [],
   "source": [
    "## save cleaned dataset\n",
    "df_copy.to_csv('data/Algerian_forest_fires_dataset_cleaned.csv')\n",
    "df = df_copy"
   ]
  },
  {
   "cell_type": "markdown",
   "id": "bd707240-bdb8-44e3-a159-d376e821de30",
   "metadata": {},
   "source": [
    "# Exploratory Data Analysis"
   ]
  },
  {
   "cell_type": "code",
   "execution_count": 39,
   "id": "f9789926-90e6-4576-b2cc-a24200de3ae7",
   "metadata": {
    "tags": []
   },
   "outputs": [],
   "source": [
    "# remove unnecessary columns day,month and year\n",
    "df = df.drop(labels=['day','month','year'], axis=1)"
   ]
  },
  {
   "cell_type": "code",
   "execution_count": 40,
   "id": "c5586725-3f88-483b-8da3-b703d4ed617d",
   "metadata": {
    "tags": []
   },
   "outputs": [
    {
     "data": {
      "text/html": [
       "<div>\n",
       "<style scoped>\n",
       "    .dataframe tbody tr th:only-of-type {\n",
       "        vertical-align: middle;\n",
       "    }\n",
       "\n",
       "    .dataframe tbody tr th {\n",
       "        vertical-align: top;\n",
       "    }\n",
       "\n",
       "    .dataframe thead th {\n",
       "        text-align: right;\n",
       "    }\n",
       "</style>\n",
       "<table border=\"1\" class=\"dataframe\">\n",
       "  <thead>\n",
       "    <tr style=\"text-align: right;\">\n",
       "      <th></th>\n",
       "      <th>Temperature</th>\n",
       "      <th>RH</th>\n",
       "      <th>Ws</th>\n",
       "      <th>Rain</th>\n",
       "      <th>FFMC</th>\n",
       "      <th>DMC</th>\n",
       "      <th>DC</th>\n",
       "      <th>ISI</th>\n",
       "      <th>BUI</th>\n",
       "      <th>FWI</th>\n",
       "      <th>Classes</th>\n",
       "      <th>Region</th>\n",
       "    </tr>\n",
       "  </thead>\n",
       "  <tbody>\n",
       "    <tr>\n",
       "      <th>0</th>\n",
       "      <td>29</td>\n",
       "      <td>57</td>\n",
       "      <td>18</td>\n",
       "      <td>0.0</td>\n",
       "      <td>65.7</td>\n",
       "      <td>3.4</td>\n",
       "      <td>7.6</td>\n",
       "      <td>1.3</td>\n",
       "      <td>3.4</td>\n",
       "      <td>0.5</td>\n",
       "      <td>not fire</td>\n",
       "      <td>0</td>\n",
       "    </tr>\n",
       "    <tr>\n",
       "      <th>1</th>\n",
       "      <td>29</td>\n",
       "      <td>61</td>\n",
       "      <td>13</td>\n",
       "      <td>1.3</td>\n",
       "      <td>64.4</td>\n",
       "      <td>4.1</td>\n",
       "      <td>7.6</td>\n",
       "      <td>1.0</td>\n",
       "      <td>3.9</td>\n",
       "      <td>0.4</td>\n",
       "      <td>not fire</td>\n",
       "      <td>0</td>\n",
       "    </tr>\n",
       "    <tr>\n",
       "      <th>2</th>\n",
       "      <td>26</td>\n",
       "      <td>82</td>\n",
       "      <td>22</td>\n",
       "      <td>13.1</td>\n",
       "      <td>47.1</td>\n",
       "      <td>2.5</td>\n",
       "      <td>7.1</td>\n",
       "      <td>0.3</td>\n",
       "      <td>2.7</td>\n",
       "      <td>0.1</td>\n",
       "      <td>not fire</td>\n",
       "      <td>0</td>\n",
       "    </tr>\n",
       "    <tr>\n",
       "      <th>3</th>\n",
       "      <td>25</td>\n",
       "      <td>89</td>\n",
       "      <td>13</td>\n",
       "      <td>2.5</td>\n",
       "      <td>28.6</td>\n",
       "      <td>1.3</td>\n",
       "      <td>6.9</td>\n",
       "      <td>0.0</td>\n",
       "      <td>1.7</td>\n",
       "      <td>0.0</td>\n",
       "      <td>not fire</td>\n",
       "      <td>0</td>\n",
       "    </tr>\n",
       "    <tr>\n",
       "      <th>4</th>\n",
       "      <td>27</td>\n",
       "      <td>77</td>\n",
       "      <td>16</td>\n",
       "      <td>0.0</td>\n",
       "      <td>64.8</td>\n",
       "      <td>3.0</td>\n",
       "      <td>14.2</td>\n",
       "      <td>1.2</td>\n",
       "      <td>3.9</td>\n",
       "      <td>0.5</td>\n",
       "      <td>not fire</td>\n",
       "      <td>0</td>\n",
       "    </tr>\n",
       "  </tbody>\n",
       "</table>\n",
       "</div>"
      ],
      "text/plain": [
       "   Temperature  RH  Ws  Rain  FFMC  DMC    DC  ISI  BUI  FWI      Classes  \\\n",
       "0           29  57  18   0.0  65.7  3.4   7.6  1.3  3.4  0.5  not fire      \n",
       "1           29  61  13   1.3  64.4  4.1   7.6  1.0  3.9  0.4  not fire      \n",
       "2           26  82  22  13.1  47.1  2.5   7.1  0.3  2.7  0.1  not fire      \n",
       "3           25  89  13   2.5  28.6  1.3   6.9  0.0  1.7  0.0  not fire      \n",
       "4           27  77  16   0.0  64.8  3.0  14.2  1.2  3.9  0.5  not fire      \n",
       "\n",
       "   Region  \n",
       "0       0  \n",
       "1       0  \n",
       "2       0  \n",
       "3       0  \n",
       "4       0  "
      ]
     },
     "execution_count": 40,
     "metadata": {},
     "output_type": "execute_result"
    }
   ],
   "source": [
    "df.head()"
   ]
  },
  {
   "cell_type": "code",
   "execution_count": 44,
   "id": "5d164278-d814-41ea-ba49-cd9dae66d3bd",
   "metadata": {
    "tags": []
   },
   "outputs": [
    {
     "data": {
      "text/plain": [
       "fire             131\n",
       "not fire         101\n",
       "fire               5\n",
       "fire               2\n",
       "not fire           2\n",
       "not fire           1\n",
       "not fire           1\n",
       "not fire           1\n",
       "Name: Classes, dtype: int64"
      ]
     },
     "execution_count": 44,
     "metadata": {},
     "output_type": "execute_result"
    }
   ],
   "source": [
    "## categories in classes\n",
    "df['Classes'].value_counts()"
   ]
  },
  {
   "cell_type": "code",
   "execution_count": 50,
   "id": "3a9e5d2f-ffff-4e51-b54d-f53f96dea1d0",
   "metadata": {
    "tags": []
   },
   "outputs": [],
   "source": [
    "## Encoding of the categories in classes\n",
    "df['Classes'] = df['Classes'].apply( lambda x : 0 if 'not fire' in x else 1)  \n",
    "\n",
    "## other way\n",
    "#df['Classes'] = np.where(df['Classes'].str.contains('not fire'),0,1)"
   ]
  },
  {
   "cell_type": "code",
   "execution_count": 53,
   "id": "cec51c45-3bb7-4825-9a53-b4c1e9adcfd3",
   "metadata": {
    "tags": []
   },
   "outputs": [
    {
     "data": {
      "text/plain": [
       "1    138\n",
       "0    106\n",
       "Name: Classes, dtype: int64"
      ]
     },
     "execution_count": 53,
     "metadata": {},
     "output_type": "execute_result"
    }
   ],
   "source": [
    "df['Classes'].value_counts()"
   ]
  },
  {
   "cell_type": "code",
   "execution_count": 54,
   "id": "820af7e4-0980-4ec4-87cd-07df36f5e78f",
   "metadata": {
    "tags": []
   },
   "outputs": [
    {
     "name": "stderr",
     "output_type": "stream",
     "text": [
      "/tmp/ipykernel_42171/587393156.py:2: MatplotlibDeprecationWarning: The seaborn styles shipped by Matplotlib are deprecated since 3.6, as they no longer correspond to the styles shipped by seaborn. However, they will remain available as 'seaborn-v0_8-<style>'. Alternatively, directly use the seaborn API instead.\n",
      "  plt.style.use('seaborn')\n"
     ]
    },
    {
     "data": {
      "image/png": "[encoded data removed]",
      "text/plain": [
       "<Figure size 2000x1500 with 12 Axes>"
      ]
     },
     "metadata": {},
     "output_type": "display_data"
    }
   ],
   "source": [
    "## Plot density plot for all data points\n",
    "plt.style.use('seaborn')\n",
    "df.hist(bins=50,figsize=(20,15))\n",
    "plt.show()"
   ]
  },
  {
   "cell_type": "code",
   "execution_count": 57,
   "id": "0a22da2e-c2ea-4227-8741-cdf375d2a73c",
   "metadata": {
    "tags": []
   },
   "outputs": [],
   "source": [
    "# percentage calculation for pie chart\n",
    "percentage = df['Classes'].value_counts(normalize=True) *100"
   ]
  },
  {
   "cell_type": "code",
   "execution_count": 58,
   "id": "cb32911d-7f77-4276-a7b8-651651b1bf03",
   "metadata": {
    "tags": []
   },
   "outputs": [
    {
     "data": {
      "text/plain": [
       "1    56.557377\n",
       "0    43.442623\n",
       "Name: Classes, dtype: float64"
      ]
     },
     "execution_count": 58,
     "metadata": {},
     "output_type": "execute_result"
    }
   ],
   "source": [
    "percentage"
   ]
  },
  {
   "cell_type": "code",
   "execution_count": 60,
   "id": "ef7197ce-417e-4edb-a2d6-53f5cfc86e70",
   "metadata": {
    "tags": []
   },
   "outputs": [
    {
     "data": {
      "image/png": "[encoded data removed]",
      "text/plain": [
       "<Figure size 1000x600 with 1 Axes>"
      ]
     },
     "metadata": {},
     "output_type": "display_data"
    }
   ],
   "source": [
    "#plot pie chart\n",
    "labels = ['fire','not fire']\n",
    "plt.figure(figsize=(10,6))\n",
    "plt.pie(percentage,autopct='%1.1f%%',labels=labels)\n",
    "plt.title('Pie Chart for Classes')\n",
    "plt.show()"
   ]
  },
  {
   "cell_type": "code",
   "execution_count": 61,
   "id": "a1a75f83-7b19-4c04-aa7c-a41251697ce5",
   "metadata": {
    "tags": []
   },
   "outputs": [
    {
     "data": {
      "text/html": [
       "<div>\n",
       "<style scoped>\n",
       "    .dataframe tbody tr th:only-of-type {\n",
       "        vertical-align: middle;\n",
       "    }\n",
       "\n",
       "    .dataframe tbody tr th {\n",
       "        vertical-align: top;\n",
       "    }\n",
       "\n",
       "    .dataframe thead th {\n",
       "        text-align: right;\n",
       "    }\n",
       "</style>\n",
       "<table border=\"1\" class=\"dataframe\">\n",
       "  <thead>\n",
       "    <tr style=\"text-align: right;\">\n",
       "      <th></th>\n",
       "      <th>Temperature</th>\n",
       "      <th>RH</th>\n",
       "      <th>Ws</th>\n",
       "      <th>Rain</th>\n",
       "      <th>FFMC</th>\n",
       "      <th>DMC</th>\n",
       "      <th>DC</th>\n",
       "      <th>ISI</th>\n",
       "      <th>BUI</th>\n",
       "      <th>FWI</th>\n",
       "      <th>Classes</th>\n",
       "      <th>Region</th>\n",
       "    </tr>\n",
       "  </thead>\n",
       "  <tbody>\n",
       "    <tr>\n",
       "      <th>Temperature</th>\n",
       "      <td>1.000000</td>\n",
       "      <td>-0.654443</td>\n",
       "      <td>-0.278132</td>\n",
       "      <td>-0.326786</td>\n",
       "      <td>0.677491</td>\n",
       "      <td>0.483105</td>\n",
       "      <td>0.370498</td>\n",
       "      <td>0.605971</td>\n",
       "      <td>0.456415</td>\n",
       "      <td>0.566839</td>\n",
       "      <td>0.518119</td>\n",
       "      <td>0.273496</td>\n",
       "    </tr>\n",
       "    <tr>\n",
       "      <th>RH</th>\n",
       "      <td>-0.654443</td>\n",
       "      <td>1.000000</td>\n",
       "      <td>0.236084</td>\n",
       "      <td>0.222968</td>\n",
       "      <td>-0.645658</td>\n",
       "      <td>-0.405133</td>\n",
       "      <td>-0.220330</td>\n",
       "      <td>-0.688268</td>\n",
       "      <td>-0.349685</td>\n",
       "      <td>-0.580457</td>\n",
       "      <td>-0.435023</td>\n",
       "      <td>-0.406424</td>\n",
       "    </tr>\n",
       "    <tr>\n",
       "      <th>Ws</th>\n",
       "      <td>-0.278132</td>\n",
       "      <td>0.236084</td>\n",
       "      <td>1.000000</td>\n",
       "      <td>0.170169</td>\n",
       "      <td>-0.163255</td>\n",
       "      <td>-0.001246</td>\n",
       "      <td>0.076245</td>\n",
       "      <td>0.012245</td>\n",
       "      <td>0.030303</td>\n",
       "      <td>0.033957</td>\n",
       "      <td>-0.066529</td>\n",
       "      <td>-0.176829</td>\n",
       "    </tr>\n",
       "    <tr>\n",
       "      <th>Rain</th>\n",
       "      <td>-0.326786</td>\n",
       "      <td>0.222968</td>\n",
       "      <td>0.170169</td>\n",
       "      <td>1.000000</td>\n",
       "      <td>-0.544045</td>\n",
       "      <td>-0.288548</td>\n",
       "      <td>-0.296804</td>\n",
       "      <td>-0.347862</td>\n",
       "      <td>-0.299409</td>\n",
       "      <td>-0.324755</td>\n",
       "      <td>-0.379449</td>\n",
       "      <td>-0.041080</td>\n",
       "    </tr>\n",
       "    <tr>\n",
       "      <th>FFMC</th>\n",
       "      <td>0.677491</td>\n",
       "      <td>-0.645658</td>\n",
       "      <td>-0.163255</td>\n",
       "      <td>-0.544045</td>\n",
       "      <td>1.000000</td>\n",
       "      <td>0.602391</td>\n",
       "      <td>0.503910</td>\n",
       "      <td>0.740751</td>\n",
       "      <td>0.590251</td>\n",
       "      <td>0.691430</td>\n",
       "      <td>0.770114</td>\n",
       "      <td>0.224680</td>\n",
       "    </tr>\n",
       "    <tr>\n",
       "      <th>DMC</th>\n",
       "      <td>0.483105</td>\n",
       "      <td>-0.405133</td>\n",
       "      <td>-0.001246</td>\n",
       "      <td>-0.288548</td>\n",
       "      <td>0.602391</td>\n",
       "      <td>1.000000</td>\n",
       "      <td>0.875358</td>\n",
       "      <td>0.678355</td>\n",
       "      <td>0.982206</td>\n",
       "      <td>0.875191</td>\n",
       "      <td>0.584188</td>\n",
       "      <td>0.191094</td>\n",
       "    </tr>\n",
       "    <tr>\n",
       "      <th>DC</th>\n",
       "      <td>0.370498</td>\n",
       "      <td>-0.220330</td>\n",
       "      <td>0.076245</td>\n",
       "      <td>-0.296804</td>\n",
       "      <td>0.503910</td>\n",
       "      <td>0.875358</td>\n",
       "      <td>1.000000</td>\n",
       "      <td>0.503919</td>\n",
       "      <td>0.941672</td>\n",
       "      <td>0.737041</td>\n",
       "      <td>0.507122</td>\n",
       "      <td>-0.081489</td>\n",
       "    </tr>\n",
       "    <tr>\n",
       "      <th>ISI</th>\n",
       "      <td>0.605971</td>\n",
       "      <td>-0.688268</td>\n",
       "      <td>0.012245</td>\n",
       "      <td>-0.347862</td>\n",
       "      <td>0.740751</td>\n",
       "      <td>0.678355</td>\n",
       "      <td>0.503919</td>\n",
       "      <td>1.000000</td>\n",
       "      <td>0.641351</td>\n",
       "      <td>0.922422</td>\n",
       "      <td>0.736142</td>\n",
       "      <td>0.266298</td>\n",
       "    </tr>\n",
       "    <tr>\n",
       "      <th>BUI</th>\n",
       "      <td>0.456415</td>\n",
       "      <td>-0.349685</td>\n",
       "      <td>0.030303</td>\n",
       "      <td>-0.299409</td>\n",
       "      <td>0.590251</td>\n",
       "      <td>0.982206</td>\n",
       "      <td>0.941672</td>\n",
       "      <td>0.641351</td>\n",
       "      <td>1.000000</td>\n",
       "      <td>0.856912</td>\n",
       "      <td>0.584545</td>\n",
       "      <td>0.087996</td>\n",
       "    </tr>\n",
       "    <tr>\n",
       "      <th>FWI</th>\n",
       "      <td>0.566839</td>\n",
       "      <td>-0.580457</td>\n",
       "      <td>0.033957</td>\n",
       "      <td>-0.324755</td>\n",
       "      <td>0.691430</td>\n",
       "      <td>0.875191</td>\n",
       "      <td>0.737041</td>\n",
       "      <td>0.922422</td>\n",
       "      <td>0.856912</td>\n",
       "      <td>1.000000</td>\n",
       "      <td>0.719407</td>\n",
       "      <td>0.198474</td>\n",
       "    </tr>\n",
       "    <tr>\n",
       "      <th>Classes</th>\n",
       "      <td>0.518119</td>\n",
       "      <td>-0.435023</td>\n",
       "      <td>-0.066529</td>\n",
       "      <td>-0.379449</td>\n",
       "      <td>0.770114</td>\n",
       "      <td>0.584188</td>\n",
       "      <td>0.507122</td>\n",
       "      <td>0.736142</td>\n",
       "      <td>0.584545</td>\n",
       "      <td>0.719407</td>\n",
       "      <td>1.000000</td>\n",
       "      <td>0.165363</td>\n",
       "    </tr>\n",
       "    <tr>\n",
       "      <th>Region</th>\n",
       "      <td>0.273496</td>\n",
       "      <td>-0.406424</td>\n",
       "      <td>-0.176829</td>\n",
       "      <td>-0.041080</td>\n",
       "      <td>0.224680</td>\n",
       "      <td>0.191094</td>\n",
       "      <td>-0.081489</td>\n",
       "      <td>0.266298</td>\n",
       "      <td>0.087996</td>\n",
       "      <td>0.198474</td>\n",
       "      <td>0.165363</td>\n",
       "      <td>1.000000</td>\n",
       "    </tr>\n",
       "  </tbody>\n",
       "</table>\n",
       "</div>"
      ],
      "text/plain": [
       "             Temperature        RH        Ws      Rain      FFMC       DMC  \\\n",
       "Temperature     1.000000 -0.654443 -0.278132 -0.326786  0.677491  0.483105   \n",
       "RH             -0.654443  1.000000  0.236084  0.222968 -0.645658 -0.405133   \n",
       "Ws             -0.278132  0.236084  1.000000  0.170169 -0.163255 -0.001246   \n",
       "Rain           -0.326786  0.222968  0.170169  1.000000 -0.544045 -0.288548   \n",
       "FFMC            0.677491 -0.645658 -0.163255 -0.544045  1.000000  0.602391   \n",
       "DMC             0.483105 -0.405133 -0.001246 -0.288548  0.602391  1.000000   \n",
       "DC              0.370498 -0.220330  0.076245 -0.296804  0.503910  0.875358   \n",
       "ISI             0.605971 -0.688268  0.012245 -0.347862  0.740751  0.678355   \n",
       "BUI             0.456415 -0.349685  0.030303 -0.299409  0.590251  0.982206   \n",
       "FWI             0.566839 -0.580457  0.033957 -0.324755  0.691430  0.875191   \n",
       "Classes         0.518119 -0.435023 -0.066529 -0.379449  0.770114  0.584188   \n",
       "Region          0.273496 -0.406424 -0.176829 -0.041080  0.224680  0.191094   \n",
       "\n",
       "                   DC       ISI       BUI       FWI   Classes    Region  \n",
       "Temperature  0.370498  0.605971  0.456415  0.566839  0.518119  0.273496  \n",
       "RH          -0.220330 -0.688268 -0.349685 -0.580457 -0.435023 -0.406424  \n",
       "Ws           0.076245  0.012245  0.030303  0.033957 -0.066529 -0.176829  \n",
       "Rain        -0.296804 -0.347862 -0.299409 -0.324755 -0.379449 -0.041080  \n",
       "FFMC         0.503910  0.740751  0.590251  0.691430  0.770114  0.224680  \n",
       "DMC          0.875358  0.678355  0.982206  0.875191  0.584188  0.191094  \n",
       "DC           1.000000  0.503919  0.941672  0.737041  0.507122 -0.081489  \n",
       "ISI          0.503919  1.000000  0.641351  0.922422  0.736142  0.266298  \n",
       "BUI          0.941672  0.641351  1.000000  0.856912  0.584545  0.087996  \n",
       "FWI          0.737041  0.922422  0.856912  1.000000  0.719407  0.198474  \n",
       "Classes      0.507122  0.736142  0.584545  0.719407  1.000000  0.165363  \n",
       "Region      -0.081489  0.266298  0.087996  0.198474  0.165363  1.000000  "
      ]
     },
     "execution_count": 61,
     "metadata": {},
     "output_type": "execute_result"
    }
   ],
   "source": [
    "## Corelation\n",
    "df.corr()"
   ]
  },
  {
   "cell_type": "code",
   "execution_count": 64,
   "id": "ed560afd-e2e1-4ae6-8af6-e762c89116a9",
   "metadata": {
    "tags": []
   },
   "outputs": [
    {
     "data": {
      "text/plain": [
       "<Axes: >"
      ]
     },
     "execution_count": 64,
     "metadata": {},
     "output_type": "execute_result"
    },
    {
     "data": {
      "image/png": "[encoded data removed]",
      "text/plain": [
       "<Figure size 800x550 with 2 Axes>"
      ]
     },
     "metadata": {},
     "output_type": "display_data"
    }
   ],
   "source": [
    "## heatmap\n",
    "sns.heatmap(df.corr(),annot=True)"
   ]
  },
  {
   "cell_type": "code",
   "execution_count": 65,
   "id": "fb54c59d-21c7-478a-a093-21f1b648fc8b",
   "metadata": {
    "tags": []
   },
   "outputs": [],
   "source": [
    "df_copy['Classes']=np.where(df_copy['Classes'].str.contains('not fire'),'not fire','fire')"
   ]
  },
  {
   "cell_type": "code",
   "execution_count": 66,
   "id": "bf43e540-dfd2-4f3e-92a8-ce1166422ac0",
   "metadata": {
    "tags": []
   },
   "outputs": [
    {
     "data": {
      "text/html": [
       "<div>\n",
       "<style scoped>\n",
       "    .dataframe tbody tr th:only-of-type {\n",
       "        vertical-align: middle;\n",
       "    }\n",
       "\n",
       "    .dataframe tbody tr th {\n",
       "        vertical-align: top;\n",
       "    }\n",
       "\n",
       "    .dataframe thead th {\n",
       "        text-align: right;\n",
       "    }\n",
       "</style>\n",
       "<table border=\"1\" class=\"dataframe\">\n",
       "  <thead>\n",
       "    <tr style=\"text-align: right;\">\n",
       "      <th></th>\n",
       "      <th>day</th>\n",
       "      <th>month</th>\n",
       "      <th>year</th>\n",
       "      <th>Temperature</th>\n",
       "      <th>RH</th>\n",
       "      <th>Ws</th>\n",
       "      <th>Rain</th>\n",
       "      <th>FFMC</th>\n",
       "      <th>DMC</th>\n",
       "      <th>DC</th>\n",
       "      <th>ISI</th>\n",
       "      <th>BUI</th>\n",
       "      <th>FWI</th>\n",
       "      <th>Classes</th>\n",
       "      <th>Region</th>\n",
       "    </tr>\n",
       "  </thead>\n",
       "  <tbody>\n",
       "    <tr>\n",
       "      <th>0</th>\n",
       "      <td>1</td>\n",
       "      <td>6</td>\n",
       "      <td>2012</td>\n",
       "      <td>29</td>\n",
       "      <td>57</td>\n",
       "      <td>18</td>\n",
       "      <td>0.0</td>\n",
       "      <td>65.7</td>\n",
       "      <td>3.4</td>\n",
       "      <td>7.6</td>\n",
       "      <td>1.3</td>\n",
       "      <td>3.4</td>\n",
       "      <td>0.5</td>\n",
       "      <td>not fire</td>\n",
       "      <td>0</td>\n",
       "    </tr>\n",
       "    <tr>\n",
       "      <th>1</th>\n",
       "      <td>2</td>\n",
       "      <td>6</td>\n",
       "      <td>2012</td>\n",
       "      <td>29</td>\n",
       "      <td>61</td>\n",
       "      <td>13</td>\n",
       "      <td>1.3</td>\n",
       "      <td>64.4</td>\n",
       "      <td>4.1</td>\n",
       "      <td>7.6</td>\n",
       "      <td>1.0</td>\n",
       "      <td>3.9</td>\n",
       "      <td>0.4</td>\n",
       "      <td>not fire</td>\n",
       "      <td>0</td>\n",
       "    </tr>\n",
       "    <tr>\n",
       "      <th>2</th>\n",
       "      <td>3</td>\n",
       "      <td>6</td>\n",
       "      <td>2012</td>\n",
       "      <td>26</td>\n",
       "      <td>82</td>\n",
       "      <td>22</td>\n",
       "      <td>13.1</td>\n",
       "      <td>47.1</td>\n",
       "      <td>2.5</td>\n",
       "      <td>7.1</td>\n",
       "      <td>0.3</td>\n",
       "      <td>2.7</td>\n",
       "      <td>0.1</td>\n",
       "      <td>not fire</td>\n",
       "      <td>0</td>\n",
       "    </tr>\n",
       "    <tr>\n",
       "      <th>3</th>\n",
       "      <td>4</td>\n",
       "      <td>6</td>\n",
       "      <td>2012</td>\n",
       "      <td>25</td>\n",
       "      <td>89</td>\n",
       "      <td>13</td>\n",
       "      <td>2.5</td>\n",
       "      <td>28.6</td>\n",
       "      <td>1.3</td>\n",
       "      <td>6.9</td>\n",
       "      <td>0.0</td>\n",
       "      <td>1.7</td>\n",
       "      <td>0.0</td>\n",
       "      <td>not fire</td>\n",
       "      <td>0</td>\n",
       "    </tr>\n",
       "    <tr>\n",
       "      <th>4</th>\n",
       "      <td>5</td>\n",
       "      <td>6</td>\n",
       "      <td>2012</td>\n",
       "      <td>27</td>\n",
       "      <td>77</td>\n",
       "      <td>16</td>\n",
       "      <td>0.0</td>\n",
       "      <td>64.8</td>\n",
       "      <td>3.0</td>\n",
       "      <td>14.2</td>\n",
       "      <td>1.2</td>\n",
       "      <td>3.9</td>\n",
       "      <td>0.5</td>\n",
       "      <td>not fire</td>\n",
       "      <td>0</td>\n",
       "    </tr>\n",
       "  </tbody>\n",
       "</table>\n",
       "</div>"
      ],
      "text/plain": [
       "   day  month  year  Temperature  RH  Ws  Rain  FFMC  DMC    DC  ISI  BUI  \\\n",
       "0    1      6  2012           29  57  18   0.0  65.7  3.4   7.6  1.3  3.4   \n",
       "1    2      6  2012           29  61  13   1.3  64.4  4.1   7.6  1.0  3.9   \n",
       "2    3      6  2012           26  82  22  13.1  47.1  2.5   7.1  0.3  2.7   \n",
       "3    4      6  2012           25  89  13   2.5  28.6  1.3   6.9  0.0  1.7   \n",
       "4    5      6  2012           27  77  16   0.0  64.8  3.0  14.2  1.2  3.9   \n",
       "\n",
       "   FWI   Classes  Region  \n",
       "0  0.5  not fire       0  \n",
       "1  0.4  not fire       0  \n",
       "2  0.1  not fire       0  \n",
       "3  0.0  not fire       0  \n",
       "4  0.5  not fire       0  "
      ]
     },
     "execution_count": 66,
     "metadata": {},
     "output_type": "execute_result"
    }
   ],
   "source": [
    "df_copy.head()"
   ]
  },
  {
   "cell_type": "code",
   "execution_count": 67,
   "id": "05286791-0d99-4e3e-9125-1439e22fcbb4",
   "metadata": {
    "tags": []
   },
   "outputs": [
    {
     "data": {
      "text/plain": [
       "Text(0.5, 1.0, 'Fire Analysis of Sidi- Bel Regions')"
      ]
     },
     "execution_count": 67,
     "metadata": {},
     "output_type": "execute_result"
    },
    {
     "data": {
      "image/png": "[encoded data removed]",
      "text/plain": [
       "<Figure size 1300x600 with 1 Axes>"
      ]
     },
     "metadata": {},
     "output_type": "display_data"
    }
   ],
   "source": [
    "## Monthly Fire Analysis\n",
    "dftemp=df.loc[df_copy['Region']==1]\n",
    "plt.subplots(figsize=(13,6))\n",
    "sns.set_style('whitegrid')\n",
    "sns.countplot(x='month',hue='Classes',data=df_copy)\n",
    "plt.ylabel('Number of Fires',weight='bold')\n",
    "plt.xlabel('Months',weight='bold')\n",
    "plt.title(\"Fire Analysis of Sidi- Bel Regions\",weight='bold')"
   ]
  },
  {
   "cell_type": "code",
   "execution_count": 68,
   "id": "0a4784b8-fcec-4c26-97f3-1a5a1e6692b1",
   "metadata": {
    "tags": []
   },
   "outputs": [
    {
     "data": {
      "text/plain": [
       "Text(0.5, 1.0, 'Fire Analysis of Brjaia Regions')"
      ]
     },
     "execution_count": 68,
     "metadata": {},
     "output_type": "execute_result"
    },
    {
     "data": {
      "image/png": "[encoded data removed]",
      "text/plain": [
       "<Figure size 1300x600 with 1 Axes>"
      ]
     },
     "metadata": {},
     "output_type": "display_data"
    }
   ],
   "source": [
    "## Monthly Fire Analysis\n",
    "dftemp=df_copy.loc[df_copy['Region']==0]\n",
    "plt.subplots(figsize=(13,6))\n",
    "sns.set_style('whitegrid')\n",
    "sns.countplot(x='month',hue='Classes',data=df_copy)\n",
    "plt.ylabel('Number of Fires',weight='bold')\n",
    "plt.xlabel('Months',weight='bold')\n",
    "plt.title(\"Fire Analysis of Brjaia Regions\",weight='bold')"
   ]
  },
  {
   "cell_type": "markdown",
   "id": "04d0b644-c7d3-4d0b-b307-78f700d4b725",
   "metadata": {},
   "source": [
    "Its observed that August and September had the most number of forest fires for both regions. And from the above plot of months, we can understand few things\n",
    "\n",
    "Most of the fires happened in August and very high Fires happened in only 3 months - June, July and August.\n",
    "\n",
    "Less Fires was on September"
   ]
  },
  {
   "cell_type": "code",
   "execution_count": 69,
   "id": "d9964adf-d7f8-4d7d-a805-7d60aae7741d",
   "metadata": {
    "tags": []
   },
   "outputs": [],
   "source": [
    "## save cleaned dataset\n",
    "df_copy.to_csv('data/Algerian_forest_fires_dataset_cleaned.csv')"
   ]
  },
  {
   "cell_type": "code",
   "execution_count": null,
   "id": "1c7bd922-1210-4f5f-b567-cfdb3a0aa43a",
   "metadata": {},
   "outputs": [],
   "source": []
  }
 ],
 "metadata": {
  "kernelspec": {
   "display_name": "Python 3 (ipykernel)",
   "language": "python",
   "name": "python3"
  },
  "language_info": {
   "codemirror_mode": {
    "name": "ipython",
    "version": 3
   },
   "file_extension": ".py",
   "mimetype": "text/x-python",
   "name": "python",
   "nbconvert_exporter": "python",
   "pygments_lexer": "ipython3",
   "version": "3.8.10"
  }
 },
 "nbformat": 4,
 "nbformat_minor": 5
}
